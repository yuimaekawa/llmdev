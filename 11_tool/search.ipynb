{
 "cells": [
  {
   "cell_type": "code",
   "execution_count": 1,
   "id": "9e88de29",
   "metadata": {},
   "outputs": [],
   "source": [
    "# 必要なモジュールをインポート\n",
    "import os\n",
    "import json\n",
    "from dotenv import load_dotenv\n",
    "from openai import OpenAI\n",
    "from openai.types.chat import ChatCompletionToolParam\n",
    "from tavily import TavilyClient\n",
    "\n",
    "# 環境変数の取得\n",
    "load_dotenv(\"../.env\")\n",
    "\n",
    "# OpenAI APIクライアントを生成\n",
    "client = OpenAI(api_key=os.environ['API_KEY'])\n",
    "\n",
    "# tavily検索用APIキーの取得\n",
    "TAVILY_API_KEY = os.environ['TAVILY_API_KEY']\n",
    "\n",
    "# モデル名\n",
    "MODEL_NAME = \"gpt-4o-mini\""
   ]
  },
  {
   "cell_type": "code",
   "execution_count": 2,
   "id": "f2178a3e",
   "metadata": {},
   "outputs": [],
   "source": [
    "# 検索結果を返す関数の作成\n",
    "def get_search_result(question):\n",
    "    client = TavilyClient(api_key=TAVILY_API_KEY)\n",
    "    response = client.search(question)\n",
    "    return json.dumps({\"result\": response[\"results\"]})"
   ]
  },
  {
   "cell_type": "code",
   "execution_count": 3,
   "id": "2a446619",
   "metadata": {},
   "outputs": [
    {
     "data": {
      "text/plain": [
       "{'result': [{'url': 'https://www.walkerplus.com/event_list/ar0313/sc309880d/',\n",
       "   'title': '東京駅(東京都)周辺のイベント',\n",
       "   'content': '開催中 2025年3月20日(祝)～6月3日(火) 京橋駅(東京都), 宝町駅(東京都), 日本橋駅(東京都), 銀座一丁目駅(東京都), 東京駅(東京都) CREATIVE MUSEUM TOKYO(クリエイティブ ミュージアム トウキョウ) *   [美術展・博物展](https://www.walkerplus.com/event_list/eg0107/) 開催中 2025年3月20日(祝)～6月3日(火) 京橋駅(東京都), 宝町駅(東京都), 日本橋駅(東京都), 銀座一丁目駅(東京都), 東京駅(東京都) CREATIVE MUSEUM TOKYO(クリエイティブ ミュージアム トウキョウ) *   [グルメ・フードフェス](https://www.walkerplus.com/event_list/eg0117/) *   ![Image 6](https://www.walkerplus.com/asset/images/common/ico_charge.svg) 終了間近 2025年4月1日(火)～5月31日(土) 東京駅(東京都), 二重橋前駅(東京都), 京橋駅(東京都), 大手町駅(東京都), 有楽町駅(東京都) *   [グルメ・フードフェス](https://www.walkerplus.com/event_list/eg0117/) *   ![Image 8](https://www.walkerplus.com/asset/images/common/ico_parking.svg) 2025年4月5日(土)～6月15日(日) 東京駅(東京都), 二重橋前駅(東京都), 大手町駅(東京都), 日本橋駅(東京都), 京橋駅(東京都) *   [美術展・博物展](https://www.walkerplus.com/event_list/eg0107/) 2025年3月1日(土)～6月1日(日) 京橋駅(東京都), 宝町駅(東京都), 日本橋駅(東京都), 東京駅(東京都), 銀座一丁目駅(東京都) *   [美術展・博物展](https://www.walkerplus.com/event_list/eg0107/) 開催中 2025年4月16日(水)～11月5日(水) 日本橋駅(東京都), 京橋駅(東京都), 茅場町駅(東京都), 宝町駅(東京都), 東京駅(東京都) *   [グルメ・フードフェス](https://www.walkerplus.com/event_list/eg0117/) *   ![Image 12](https://www.walkerplus.com/asset/images/common/ico_parking.svg) 2025年3月1日(土)～6月1日(日) 京橋駅(東京都), 宝町駅(東京都), 日本橋駅(東京都), 東京駅(東京都), 銀座一丁目駅(東京都) *   [美術展・博物展](https://www.walkerplus.com/event_list/eg0107/) 開催中 2025年5月1日(木)～6月30日(月) 東京駅(東京都), 日本橋駅(東京都), 大手町駅(東京都), 京橋駅(東京都), 三越前駅(東京都) *   [グルメ・フードフェス](https://www.walkerplus.com/event_list/eg0117/) *   ![Image 15](https://www.walkerplus.com/asset/images/common/ico_parking.svg) 2025年5月29日(木)～9月7日(日) *   [美術展・博物展](https://www.walkerplus.com/event_list/eg0107/) *   [映画イベント](https://www.walkerplus.com/event_list/eg0110/) *   [ライブ・音楽イベント](https://www.walkerplus.com/event_list/eg109/) *   ![Image 18](https://www.walkerplus.com/asset/images/common/ico_parking.svg) CREATIVE MUSEUM TOKYO(クリエイティブ ミュージアム トウキョウ) YEBISU BREWERY TOKYO(ヱビス ブルワリー トウキョウ) {{/ is_event }} {{# is_spot }} *    {{ name }} {{ pref_name }}{{ city_name }}',\n",
       "   'score': 0.8170061,\n",
       "   'raw_content': None},\n",
       "  {'url': 'https://www.kokuchpro.com/feature/%E6%9D%B1%E4%BA%AC%E9%A7%85/',\n",
       "   'title': '東京駅イベント特集',\n",
       "   'content': '東京都、大阪府、愛知県などで開催されるファイナンス／お金、人脈／交流会、IT／インターネットのジャンルから東京駅に関する人気のイベントをピックアップしています。是非',\n",
       "   'score': 0.77873385,\n",
       "   'raw_content': None},\n",
       "  {'url': 'https://www.enjoytokyo.jp/event/list/sta200101/its04/',\n",
       "   'title': '今日行ける！東京駅周辺のおすすめイベント',\n",
       "   'content': '東京都\\u3000千代田区 東京ビアホール＆ビアテラス14『TOKYO BEER WAVE』 東京ビアホール＆ビアテラス14『TOKYO BEER WAVE』 東京都\\u3000千代田区 2025/05/29(木) ～ 09/07(日) 東京都\\u3000文京区 伊勢丹 立川店：3/26〜4/15 国際フォーラム：7/14〜7/31 日本橋三越本店：8/6〜8/19 文京グリーンコート：9/1〜9/30 2025/06/13(金) ～ 06/26(木) ～ 2025/06/22(日) 2025/06/14(土) ～ 07/21(月・祝) ～ 2025/06/22(日) ～ 2025/06/22(日) 2025/05/27(火) ～ 09/23(火・祝) 東京都\\u3000港区 2025/05/12(月) ～ 09/07(日) 東京都\\u3000港区 2025/04/18(金) ～ 09/23(火・祝) 2025/01/18(土) ～ ※上映日・上映時間は公式ウェブサイトよりご確認ください。 東京都\\u3000武蔵野市 2025/06/21(土) ～ 08/17(日) 東京都\\u3000武蔵野市 2025/06/06(金) ～ 07/06(日) ※期間中の金曜日、土曜日、日曜日に開催 Lounge ＆ Dining G／東京マリオットホテル 東京都・品川駅 ／ テラスレストラン Cafe & Dining ZelkovA／ザ ストリングス 表参道 東京都・表参道駅 ／ テラスレストラン 東京都・渋谷駅 ／ テラスレストラン 東京都・吉祥寺駅 ／ テラスレストラン 東京都・渋谷駅 ／ テラスレストラン 東京都・六本木一丁目駅 ／ テラスレストラン 東京都・京橋駅 ／ テラスレストラン 東京都・渋谷駅 ／ テラスレストラン 東京都・銀座一丁目駅 ／ テラスレストラン 東京都・表参道駅 ／ テラスレストラン 347 CAFE ＆ LOUNGE 東京都・渋谷駅 ／ テラスレストラン 東京都・神保町駅 ／ テラスレストラン 東京都・渋谷駅 ／ テラスレストラン 神奈川県・みなとみらい駅 ／ テラスレストラン 神奈川県・横浜駅 ／ テラスレストラン 千葉県・船橋駅 ／ テラスレストラン',\n",
       "   'score': 0.7147281,\n",
       "   'raw_content': None},\n",
       "  {'url': 'https://www.walkerplus.com/event_list/weekend/ar0313/',\n",
       "   'title': '東京都のイベント【今週末2025年8月23日(土)～ ...',\n",
       "   'content': 'Walker+ 次の楽しいが見つかる。 東京都東京都TOP # 東京都のイベント【今週末2025年6月7日(土)～2025年6月8日(日)】 折りたたむ 折りたたむ 全336件中1〜10件 もっと詳しい条件で絞り込む 開催中 2025年4月18日(金)～9月23日(祝) 東京都 港区 虎ノ門ヒルズ駅(東京都), 虎ノ門駅(東京都), 神谷町駅(東京都), 国会議事堂前駅(東京都), 六本木一丁目駅(東京都) TOKYO NODE GALLERY 累計116万人を動員した、デザインを体感する展覧会 駐車場 開催中 開催中～2025年6月25日(水) 東京都 港区 乃木坂駅(東京都), 六本木駅(東京都), 六本木一丁目駅(東京都), 青山一丁目駅(東京都) とらや 東京ミッドタウン店ギャラリー 子どもと一緒に楽しめる駄菓子の企画展 入場無料 開催中 2025年5月27日(火)～9月23日(祝) 東京都 品川区 天王洲アイル駅(東京都), 北品川駅(東京都), 新馬場駅(東京都) 東京・天王洲\\u3000寺田倉庫 B＆C HALL/E HALL ジブリ映画の世界を体感できる展覧会 開催中 2025年3月8日(土)～9月7日(日) 東京都 江東区 市場前駅(東京都), 新豊洲駅(東京都) ラムセス・ミュージアム at CREVIA BASE Tokyo ウェンジェバエンジェドの黄金のマスク 開催中 2025年1月18日(土)～7月6日(日) 東京都 千代田区 銀座駅(東京都), 有楽町駅(東京都), 日比谷駅(東京都), 銀座一丁目駅(東京都), 東銀座駅(東京都) コニカミノルタプラネタリアTOKYO 360度ゴッホの世界に包まれる 駐車場 開催中 2025年3月18日(火)～10月13日(祝) 東京都 港区 赤羽橋駅(東京都), 神谷町駅(東京都), 御成門駅(東京都), 芝公園駅(東京都), 大門駅(東京都) 東京タワー サントリーが定めた厳しい品質基準を満たした究極のハイボール「頂店ハイボール」 駐車場 開催中 2025年4月16日(水)～7月6日(日) 東京都 立川市 立川北駅(東京都), 立川駅(東京都), 高松駅(東京都), 立川南駅(東京都) PLAY! 2025年4月29日(祝)～6月30日(月) 東京都 上中里駅(東京都), 西ケ原駅(東京都), 駒込駅(東京都), 尾久駅(東京都), 梶原停留所(東京都) 2025年4月9日(水)～6月30日(月) 東京都 竹芝駅(東京都), 浜松町駅(東京都), 大門駅(東京都) 2025年4月25日(金)～6月22日(日) 東京都 銀座駅(東京都), 東銀座駅(東京都), 銀座一丁目駅(東京都), 有楽町駅(東京都), 日比谷駅(東京都) 6月 ワンコとニャンコ Walker からだにplus Walker CHECK!関東の花火大会ランキング CHECK!2025年関東で開催予定の花火大会 @chara\\\\_walker\\\\_',\n",
       "   'score': 0.6999322,\n",
       "   'raw_content': None},\n",
       "  {'url': 'https://www.enjoytokyo.jp/event/list/area1306/',\n",
       "   'title': '東京駅周辺・丸の内でおすすめのイベント',\n",
       "   'content': '～ 2025/06/01(日) 休館日：月曜日（5月5日は開館）、5月7日 ～ 2025/06/01(日) ～ 2025/06/01(日) 休館日：月曜日（5月5日は開館）、5月7日 ～ 2025/06/03(火) ～ 2025/06/03(火) ～ 2025/06/03(火) 2025/05/29(木) ～ 09/07(日) 伊勢丹 立川店：3/26〜4/15 国際フォーラム：7/14〜7/31 日本橋三越本店：8/6〜8/19 文京グリーンコート：9/1〜9/30 2025/05/21(水) ～ 06/30(月) 熊本が誇る旬の逸品“春スイカ”を首都圏で楽しめる「熊本 春スイカ フェスタ」が開催！ 2025/04/08(火) ～ 07/27(日) 休室日：月曜日、7月8日(火)～13日(日) 2025/05/19(月) ～ 06/08(日) ～ 2025/05/31(土) 2025/06/21(土) ～ 06/22(日) 2025/06/21(土) ～ 06/22(日) 2026/02/07(土) ～ 05/24(日) 休館日：2026/02/16(月)、03/16(月)、04/13(月)、05/11(月) 20世紀北欧デザインの巨匠 スティグ・リンドベリ展 2025/08/20(水) ～ 09/07(日) 20世紀北欧デザインの巨匠 スティグ・リンドベリ展 20世紀北欧デザインの巨匠 スティグ・リンドベリの作品約300点を展示！ 2025/07/26(土) ～ 08/15(金) 2025/06/06(金) ～ 07/06(日) 2025/06/14(土) ～ 07/21(月・祝) 2025/05/31(土) ～ 06/01(日) ～ 2025/05/31(土) 2025/05/13(火) ～ 07/06(日) 休館日は月曜日。開映日時は作品によって異なる。 天空茶会第二十四葉 特別セミナー世界の茶産地を訪ねて セミナー午前の部\\u3000ネパールとの出会い 天空茶会第二十四葉 特別セミナー世界の茶産地を訪ねて セミナー午前の部\\u3000ネパールとの出会い 2025/07/15(火) ～ 08/24(日) 休館日は月曜日。開映日時は作品によって異なる。 2025/07/18(金) ～ 10/05(日) ～ 2025/06/01(日) 2025/06/07(土) ～ 06/15(日) 2025/05/30(金) ～ 06/01(日) 2025/01/18(土) ～ ※上映日・上映時間は公式ウェブサイトよりご確認ください。 2025/05/16(金) ～ 06/29(日) 2025/05/24(土) ～ 06/16(月) Lounge ＆ Dining G／東京マリオットホテル Cafe & Dining ZelkovA／ザ ストリングス 表参道 347 CAFE ＆ LOUNGE',\n",
       "   'score': 0.6816637,\n",
       "   'raw_content': None}]}"
      ]
     },
     "execution_count": 3,
     "metadata": {},
     "output_type": "execute_result"
    }
   ],
   "source": [
    "# テスト用コード\n",
    "ret = get_search_result(\"東京駅のイベントを教えて\")\n",
    "json.loads(ret)"
   ]
  },
  {
   "cell_type": "code",
   "execution_count": 4,
   "id": "8668c9f4",
   "metadata": {},
   "outputs": [],
   "source": [
    "# ツール定義\n",
    "def define_tools():\n",
    "    return [\n",
    "        ChatCompletionToolParam({\n",
    "            \"type\": \"function\",\n",
    "            \"function\": {\n",
    "                \"name\": \"get_search_result\",\n",
    "                \"description\": \"指定した質問文の検索結果を取得する\",\n",
    "                \"parameters\": {\n",
    "                    \"type\": \"object\",\n",
    "                    \"properties\": {\n",
    "                        \"question\": {\"type\": \"string\", \"description\": \"質問文\"},\n",
    "                    },\n",
    "                    \"required\": [\"question\"],\n",
    "                },\n",
    "            },\n",
    "        })\n",
    "    ]"
   ]
  },
  {
   "cell_type": "code",
   "execution_count": 5,
   "id": "5e1f0532",
   "metadata": {},
   "outputs": [],
   "source": [
    "# 言語モデルへの質問を行う関数\n",
    "def ask_question(question, tools):\n",
    "    response = client.chat.completions.create(\n",
    "        model=MODEL_NAME,\n",
    "        messages=[{\"role\": \"user\", \"content\": question}],\n",
    "        tools=tools,\n",
    "        tool_choice=\"auto\",\n",
    "    )\n",
    "    return response"
   ]
  },
  {
   "cell_type": "code",
   "execution_count": 6,
   "id": "65f9a2e3",
   "metadata": {},
   "outputs": [],
   "source": [
    "# ツール呼び出しが必要な場合の処理を行う関数\n",
    "def handle_tool_call(response, question):\n",
    "    # 関数の実行と結果取得\n",
    "    tool = response.choices[0].message.tool_calls[0]\n",
    "    function_name = tool.function.name\n",
    "    arguments = json.loads(tool.function.arguments)\n",
    "    function_response = globals()[function_name](**arguments)\n",
    "\n",
    "    # 関数の実行結果をmessagesに加えて再度言語モデルを呼出\n",
    "    response_after_tool_call = client.chat.completions.create(\n",
    "        model=MODEL_NAME,\n",
    "        messages=[\n",
    "            {\"role\": \"user\", \"content\": question},\n",
    "            response.choices[0].message,\n",
    "            {\n",
    "                \"tool_call_id\": tool.id,\n",
    "                \"role\": \"tool\",\n",
    "                \"content\": function_response,\n",
    "            },\n",
    "        ],\n",
    "    )\n",
    "    return response_after_tool_call"
   ]
  },
  {
   "cell_type": "code",
   "execution_count": 7,
   "id": "930bb864",
   "metadata": {},
   "outputs": [],
   "source": [
    "# ユーザーからの質問を処理する関数\n",
    "def process_response(question, tools):\n",
    "    response = ask_question(question, tools)\n",
    "\n",
    "    if response.choices[0].finish_reason == 'tool_calls':\n",
    "        # ツール呼出の場合\n",
    "        final_response = handle_tool_call(response, question)\n",
    "        return final_response.choices[0].message.content.strip()\n",
    "    else:\n",
    "        # 言語モデルが直接回答する場合\n",
    "        return response.choices[0].message.content.strip()"
   ]
  },
  {
   "cell_type": "code",
   "execution_count": 8,
   "id": "effc883f",
   "metadata": {},
   "outputs": [
    {
     "name": "stdout",
     "output_type": "stream",
     "text": [
      "東京都と沖縄県の面積を比較すると、沖縄県の方が広いです。具体的には、沖縄県の面積は約2,276.64 km²、東京都の面積は約2,194.05 km²です。したがって、沖縄県が東京都よりも広いことがわかります。\n"
     ]
    }
   ],
   "source": [
    "tools = define_tools()\n",
    "\n",
    "# 言語モデルが直接回答できる質問\n",
    "question = \"東京都と沖縄県はどちらが広いですか？\"\n",
    "response_message = process_response(question, tools)\n",
    "print(response_message)"
   ]
  },
  {
   "cell_type": "code",
   "execution_count": 9,
   "id": "46b52e67",
   "metadata": {},
   "outputs": [
    {
     "name": "stdout",
     "output_type": "stream",
     "text": [
      "最近1ヶ月以内の東京駅周辺でのイベント情報をいくつかご紹介します。\n",
      "\n",
      "1. **SNOOPY Loves NATURE**\n",
      "   - **期間**: 2023年9月22日（金）〜10月5日（木）\n",
      "   - **場所**: 東京駅一番街\n",
      "   - **内容**: スヌーピーをテーマにした特別イベントが開催されます。\n",
      "   - [詳細はこちら](https://town.snoopy.co.jp/event/snoopy_loves_nature_tokyo2023.html)\n",
      "\n",
      "2. **東京の秋のイベント**\n",
      "   - **期間**: 2023年9月15日（金）〜9月17日（日）\n",
      "   - **内容**: 赤穂浪士まつりなど、さまざまな秋のイベントが行われます。\n",
      "   - [詳細はこちら](https://activityjapan.com/feature/tokyo-fall-event/)\n",
      "\n",
      "3. **東京近郊の注目イベント**\n",
      "   - **内容**: 注目の発表や花火大会、秋祭りなどが行われる予定です。\n",
      "   - [詳細はこちら](https://trip.iko-yo.net/articles/1529)\n",
      "\n",
      "これらのイベントは家族連れや観光客にも楽しめる内容が盛りだくさんですので、ぜひ参加してみてください！\n"
     ]
    }
   ],
   "source": [
    "tools = define_tools()\n",
    "\n",
    "# ツール呼出が必要な質問\n",
    "question = \"東京駅のイベントについて、最近1ヶ月以内の検索結果を教えてください\"\n",
    "response_message = process_response(question, tools)\n",
    "print(response_message)"
   ]
  },
  {
   "cell_type": "code",
   "execution_count": 10,
   "id": "a9c9475f",
   "metadata": {},
   "outputs": [
    {
     "data": {
      "text/plain": [
       "'質問:こんにちは！'"
      ]
     },
     "metadata": {},
     "output_type": "display_data"
    },
    {
     "name": "stdout",
     "output_type": "stream",
     "text": [
      "こんにちは！どういったことをお手伝いできますか？\n"
     ]
    },
    {
     "data": {
      "text/plain": [
       "'質問:東北6県は？'"
      ]
     },
     "metadata": {},
     "output_type": "display_data"
    },
    {
     "name": "stdout",
     "output_type": "stream",
     "text": [
      "東北地方には6つの県があります。以下がその県名です：\n",
      "\n",
      "1. 福島県（ふくしまけん）\n",
      "2. 宮城県（みやぎけん）\n",
      "3. 秋田県（あきたけん）\n",
      "4. 岩手県（いわてけん）\n",
      "5. 山形県（やまがたけん）\n",
      "6. 青森県（あおもりけん）\n",
      "\n",
      "これらの県は、自然豊かで文化的にも多様な地域です。\n"
     ]
    },
    {
     "data": {
      "text/plain": [
       "'質問:宮城県のお土産について検索した結果を教えて'"
      ]
     },
     "metadata": {},
     "output_type": "display_data"
    },
    {
     "name": "stdout",
     "output_type": "stream",
     "text": [
      "宮城県のお土産として人気のある品々についての情報をいくつかご紹介します。\n",
      "\n",
      "1. **牛たん** - 宮城県は牛たんで有名で、特に仙台名物として知られています。様々な加工品が販売されているほか、レストランで新鮮な牛たんを楽しむこともできます。\n",
      "\n",
      "2. **笹かまぼこ** - 宮城の伝統的な魚の練り物で、ふわふわとした食感が特徴です。お土産用に個包装されている商品もあります。\n",
      "\n",
      "3. **ずんだ餅** - エダマメをすりつぶして作ったずんだを使ったお餅のスイーツで、甘さと独特の風味が楽しめます。\n",
      "\n",
      "4. **仙台味噌** - 地元の特産品の一つで、家庭料理にも使用される人気の調味料です。\n",
      "\n",
      "5. **萩の月** - 宮城県名物の和菓子で、餡（あん）が入った洋風の饅頭。見た目も美しく、贈り物にぴったりです。\n",
      "\n",
      "6. **お米** - 宮城県産の美味しいお米もお土産として人気があります。特に「ひとめぼれ」など、種類が豊富です。\n",
      "\n",
      "7. **宮城の日本酒** - 地元の酒蔵で造られた日本酒も、お土産におすすめです。特に、地酒はその土地の風味を楽しめます。\n",
      "\n",
      "これらのお土産は、宮城県内の観光地や空港、駅などで手に入れることができます。また、さらに詳しい情報や特産品の紹介については、以下のリンクを参考にしてください。\n",
      "\n",
      "- [宮城県のお土産 51選！](https://atlas-log.com/miyagi-souvenir/)\n",
      "- [宮城で買うお土産20選](https://tsplus.asahi.co.jp/articles/gift/75865/)\n",
      "- [仙台の方のオススメお土産22選](https://travel.rakuten.co.jp/mytrip/howto/sendai-souvenir) \n",
      "\n",
      "ぜひ、宮城県を訪れた際には立ち寄ってみてください。\n",
      "\n",
      "---ご利用ありがとうございました！---\n"
     ]
    }
   ],
   "source": [
    "# チャットボットへの組み込み\n",
    "tools = define_tools()\n",
    "\n",
    "messages=[]\n",
    "\n",
    "while(True):\n",
    "    # ユーザーからの質問を受付\n",
    "    question = input(\"メッセージを入力:\")\n",
    "    # 質問が入力されなければ終了\n",
    "    if question.strip()==\"\":\n",
    "        break\n",
    "    display(f\"質問:{question}\")\n",
    "\n",
    "    # メッセージにユーザーからの質問を追加\n",
    "    messages.append({\"role\": \"user\", \"content\": question.strip()})\n",
    "    # やりとりが8を超えたら古いメッセージから削除\n",
    "    if len(messages) > 8:\n",
    "        del_message = messages.pop(0)\n",
    "\n",
    "    # 言語モデルに質問\n",
    "    response_message = process_response(question, tools)\n",
    "\n",
    "    # メッセージに言語モデルからの回答を追加\n",
    "    print(response_message, flush=True)\n",
    "    messages.append({\"role\": \"assistant\", \"content\": response_message})\n",
    "\n",
    "print(\"\\n---ご利用ありがとうございました！---\")"
   ]
  }
 ],
 "metadata": {
  "kernelspec": {
   "display_name": ".venv",
   "language": "python",
   "name": "python3"
  },
  "language_info": {
   "codemirror_mode": {
    "name": "ipython",
    "version": 3
   },
   "file_extension": ".py",
   "mimetype": "text/x-python",
   "name": "python",
   "nbconvert_exporter": "python",
   "pygments_lexer": "ipython3",
   "version": "3.12.10"
  }
 },
 "nbformat": 4,
 "nbformat_minor": 5
}
