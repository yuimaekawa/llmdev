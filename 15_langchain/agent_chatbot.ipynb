{
 "cells": [
  {
   "cell_type": "code",
   "execution_count": 1,
   "id": "b9461c31",
   "metadata": {},
   "outputs": [],
   "source": [
    "# 必要なモジュールをインポート\n",
    "import os\n",
    "from dotenv import load_dotenv\n",
    "from langchain_openai import ChatOpenAI\n",
    "\n",
    "# 環境変数の読み込み\n",
    "load_dotenv(\"../.env\")\n",
    "os.environ['OPENAI_API_KEY'] = os.environ['API_KEY']\n",
    "\n",
    "# モデル名\n",
    "MODEL_NAME = \"gpt-4o-mini\""
   ]
  },
  {
   "cell_type": "code",
   "execution_count": 2,
   "id": "8d6b93a0",
   "metadata": {},
   "outputs": [],
   "source": [
    "from typing import Annotated\n",
    "from typing_extensions import TypedDict\n",
    "from langgraph.graph import StateGraph\n",
    "from langgraph.graph.message import add_messages\n",
    "\n",
    "# ステートの定義\n",
    "class State(TypedDict):\n",
    "    # データを保存する属性\n",
    "    messages: Annotated[list, add_messages]\n",
    "\n",
    "# ステートグラフの作成\n",
    "graph_builder = StateGraph(State)"
   ]
  },
  {
   "cell_type": "code",
   "execution_count": 3,
   "id": "0158e075",
   "metadata": {},
   "outputs": [],
   "source": [
    "# 言語モデルの定義\n",
    "llm = ChatOpenAI(model_name=MODEL_NAME)\n",
    "\n",
    "# チャットボットノードの作成\n",
    "def chatbot(state: State):\n",
    "    return {\"messages\": [llm.invoke(state[\"messages\"])]}\n",
    "\n",
    "# グラフにチャットボットノードを追加\n",
    "graph_builder.add_node(\"chatbot\", chatbot)\n",
    "\n",
    "# 開始ノードの指定\n",
    "graph_builder.set_entry_point(\"chatbot\")\n",
    "# 終了ノードの指定\n",
    "graph_builder.set_finish_point(\"chatbot\")\n",
    "\n",
    "# 実行可能なステートグラフの作成\n",
    "graph = graph_builder.compile()"
   ]
  },
  {
   "cell_type": "code",
   "execution_count": 4,
   "id": "474c5023",
   "metadata": {},
   "outputs": [
    {
     "data": {
      "image/png": "[encoded data removed]",
      "text/plain": [
       "<IPython.core.display.Image object>"
      ]
     },
     "metadata": {},
     "output_type": "display_data"
    }
   ],
   "source": [
    "# グラフの可視化\n",
    "from IPython.display import Image, display\n",
    "\n",
    "display(Image(graph.get_graph().draw_mermaid_png()))"
   ]
  },
  {
   "cell_type": "code",
   "execution_count": 5,
   "id": "900906c8",
   "metadata": {},
   "outputs": [
    {
     "name": "stdout",
     "output_type": "stream",
     "text": [
      "{'messages': [HumanMessage(content='光の三原色は？', additional_kwargs={}, response_metadata={}, id='8cd03906-9dbf-4bce-ae07-b4de4f7c38e9'), AIMessage(content='光の三原色は、赤（Red）、緑（Green）、青（Blue）の3色です。これらの色を組み合わせることで、さまざまな色を作り出すことができます。この原理は、RGBカラーシステムに基づいており、デジタルディスプレイやテレビなどで広く使用されています。', additional_kwargs={'refusal': None}, response_metadata={'token_usage': {'completion_tokens': 83, 'prompt_tokens': 14, 'total_tokens': 97, 'completion_tokens_details': {'accepted_prediction_tokens': 0, 'audio_tokens': 0, 'reasoning_tokens': 0, 'rejected_prediction_tokens': 0}, 'prompt_tokens_details': {'audio_tokens': 0, 'cached_tokens': 0}}, 'model_name': 'gpt-4o-mini-2024-07-18', 'system_fingerprint': 'fp_560af6e559', 'finish_reason': 'stop', 'logprobs': None}, id='run-4d176dea-0157-4094-89b2-93a8b51b45ad-0', usage_metadata={'input_tokens': 14, 'output_tokens': 83, 'total_tokens': 97, 'input_token_details': {'audio': 0, 'cache_read': 0}, 'output_token_details': {'audio': 0, 'reasoning': 0}})]}\n"
     ]
    }
   ],
   "source": [
    "# グラフの実行\n",
    "response = graph.invoke({\"messages\": [(\"user\", \"光の三原色は？\")]})\n",
    "\n",
    "# 結果の表示\n",
    "print(response)"
   ]
  },
  {
   "cell_type": "code",
   "execution_count": 6,
   "id": "b11bc1bb",
   "metadata": {},
   "outputs": [
    {
     "name": "stdout",
     "output_type": "stream",
     "text": [
      "光の三原色は、赤（Red）、緑（Green）、青（Blue）の3色です。これらの色を組み合わせることで、さまざまな色を作り出すことができます。この原理は、RGBカラーシステムに基づいており、デジタルディスプレイやテレビなどで広く使用されています。\n"
     ]
    }
   ],
   "source": [
    "# 言語モデルからの回答のみを表示\n",
    "print(response[\"messages\"][-1].content)"
   ]
  },
  {
   "cell_type": "code",
   "execution_count": 7,
   "id": "19064db7",
   "metadata": {},
   "outputs": [
    {
     "name": "stdout",
     "output_type": "stream",
     "text": [
      "質問: こんにちは！\n",
      "回答: こんにちは！どういったことについてお話ししましょうか？\n",
      "質問: 光の三原色は？\n",
      "回答: 光の三原色は、赤（Red）、緑（Green）、青（Blue）の3つです。これらの色を組み合わせることで、さまざまな色を表現することができます。この原理は、ディスプレイやテレビなどの光を利用した色の表示に用いられています。\n",
      "質問: 色の三原色は？\n",
      "回答: 色の三原色は、通常、以下の3つの色を指します。\n",
      "\n",
      "1. **赤 (Red)**\n",
      "2. **青 (Blue)**\n",
      "3. **黄 (Yellow)**\n",
      "\n",
      "これらの色を組み合わせることで、さまざまな色を作り出すことができます。特に絵画や印刷などの分野で使われる加法混色の基礎となっています。\n",
      "\n",
      "また、光の三原色としては次の3つが挙げられます：\n",
      "\n",
      "1. **赤 (Red)**\n",
      "2. **緑 (Green)**\n",
      "3. **青 (Blue)**\n",
      "\n",
      "こちらはディスプレイやテレビなどのデジタルメディアで使用される色の組み合わせです。\n",
      "ありがとうございました!\n"
     ]
    }
   ],
   "source": [
    "# グラフの実行と結果の表示\n",
    "def stream_graph_updates(user_input: str):\n",
    "    # 結果をストリーミングで得る\n",
    "    events = graph.stream({\"messages\": [(\"user\", user_input)]})\n",
    "    for event in events:\n",
    "        for value in event.values():\n",
    "            print(\"回答:\", value[\"messages\"][-1].content, flush=True)\n",
    "\n",
    "# チャットボットのループ\n",
    "while True:\n",
    "    user_input = input(\"質問:\")\n",
    "    if user_input.strip()==\"\":\n",
    "        print(\"ありがとうございました!\")\n",
    "        break\n",
    "    print(\"質問:\", user_input, flush=True)\n",
    "    stream_graph_updates(user_input)"
   ]
  },
  {
   "cell_type": "code",
   "execution_count": 8,
   "id": "6696b230",
   "metadata": {},
   "outputs": [],
   "source": [
    "from langgraph.checkpoint.memory import MemorySaver\n",
    "\n",
    "# チェックポインタの作成\n",
    "memory = MemorySaver()\n",
    "\n",
    "# 記憶を持つ実行可能なステートグラフの作成\n",
    "memory_graph = graph_builder.compile(checkpointer=memory)"
   ]
  },
  {
   "cell_type": "code",
   "execution_count": 9,
   "id": "96a237e3",
   "metadata": {},
   "outputs": [
    {
     "name": "stdout",
     "output_type": "stream",
     "text": [
      "aで始まる英単語を五つ教えて\n",
      "もちろんです！以下は「a」で始まる英単語の例です：\n",
      "\n",
      "1. Apple（リンゴ）\n",
      "2. Animal（動物）\n",
      "3. Amazing（驚くべき）\n",
      "4. Adventure（冒険）\n",
      "5. Artist（アーティスト）\n",
      "\n",
      "何か他のことについて知りたいことがあれば教えてください！\n",
      "四つめの英単語はなんですか？\n",
      "四つめの英単語は「Adventure」です。意味は「冒険」です。何か他に知りたいことがあればお知らせください！\n",
      "ありがとうございました!\n"
     ]
    }
   ],
   "source": [
    "# グラフの実行と結果の表示\n",
    "def stream_graph_updates(user_input: str):\n",
    "    events = memory_graph.stream(\n",
    "        {\"messages\": [(\"user\", user_input)]},\n",
    "        {\"configurable\": {\"thread_id\": \"1\"}},\n",
    "        stream_mode=\"values\")\n",
    "    # 結果をストリーミングで得る\n",
    "    for event in events:\n",
    "        print(event[\"messages\"][-1].content, flush=True)\n",
    "\n",
    "# チャットボットのループ\n",
    "while True:\n",
    "    user_input = input(\"質問:\")\n",
    "    if user_input.strip()==\"\":\n",
    "        print(\"ありがとうございました!\")\n",
    "        break\n",
    "    stream_graph_updates(user_input)"
   ]
  }
 ],
 "metadata": {
  "kernelspec": {
   "display_name": ".venv",
   "language": "python",
   "name": "python3"
  },
  "language_info": {
   "codemirror_mode": {
    "name": "ipython",
    "version": 3
   },
   "file_extension": ".py",
   "mimetype": "text/x-python",
   "name": "python",
   "nbconvert_exporter": "python",
   "pygments_lexer": "ipython3",
   "version": "3.12.10"
  }
 },
 "nbformat": 4,
 "nbformat_minor": 5
}
