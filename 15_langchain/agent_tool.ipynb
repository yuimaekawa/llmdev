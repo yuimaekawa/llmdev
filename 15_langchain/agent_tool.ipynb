{
 "cells": [
  {
   "cell_type": "code",
   "execution_count": 1,
   "id": "e1fb06a6",
   "metadata": {},
   "outputs": [],
   "source": [
    "# 必要なモジュールをインポート\n",
    "import os\n",
    "from dotenv import load_dotenv\n",
    "from langchain_openai import ChatOpenAI\n",
    "\n",
    "# 環境変数の読み込み\n",
    "load_dotenv(\"../.env\")\n",
    "os.environ['OPENAI_API_KEY'] = os.environ['API_KEY']\n",
    "\n",
    "# モデル名\n",
    "MODEL_NAME = \"gpt-4o-mini\""
   ]
  },
  {
   "cell_type": "code",
   "execution_count": 2,
   "id": "814fb7b4",
   "metadata": {},
   "outputs": [],
   "source": [
    "# 検索ツールの定義\n",
    "from langchain_community.tools.tavily_search import TavilySearchResults\n",
    "\n",
    "tool = TavilySearchResults(max_results=2)\n",
    "tools = [tool]"
   ]
  },
  {
   "cell_type": "code",
   "execution_count": 3,
   "id": "fad7684f",
   "metadata": {},
   "outputs": [
    {
     "data": {
      "text/plain": [
       "[{'url': 'https://zenn.dev/tomodo_ysys/articles/langgraph-basic-elements',\n",
       "  'content': 'LangGraph公式のLow Level Conceptual Guideをもとに、LangGraphの主要要素の**graph**,**state**,**node**,**edge**についてまとめます。 from langchain_community.tools.tavily_search import TavilySearchResults from langgraph.graph import StateGraph from langgraph.graph.message import add_messages from langgraph.prebuilt import ToolNode, tools_condition from langgraph.graph import START,END graph_builder = StateGraph(State) tool = TavilySearchResults(max_results=2) tools = [tool] # state[\"messages\"].append(llm_with_tools.invoke(state[\"messages\"])) # return state return {\"messages\": [llm_with_tools.invoke(state[\"messages\"])]} graph_builder.add_node(\"chatbot\", chatbot) tool_node = ToolNode(tools=[tool]) graph_builder.add_node(\"tools\", tool_node) graph_builder.add_conditional_edges( tools_condition, graph_builder.add_edge(\"tools\", \"chatbot\") graph_builder.set_entry_point(\"chatbot\") # graph_builder.add_edge(START, \"chatbot\") # graph_builder.add_edge(\"chatbot\", \"tools\") # graph_builder.add_edge(\"tools\", END) ## graph ## state graph_builder = StateGraph(State) state[\"messages\"].append(llm_with_tools.invoke(state[\"messages\"])) return state return {\"messages\": [llm_with_tools.invoke(state[\"messages\"])]} def tool_node(state: dict): for tool_call in state[\"messages\"][-1].tool_calls: result.append(ToolMessage(content=observation, tool_call_id=tool_call[\"id\"])) graph_builder.add_node(\"chatbot\", chatbot) return {\"messages\": [llm_with_tools.invoke(state[\"messages\"])]} >>> from langchain_core.messages import AIMessage, HumanMessage graph_builder.add_edge(START, \"chatbot\") graph_builder.add_edge(\"chatbot\", \"tools\") graph_builder.add_edge(\"tools\", END) graph_builder.add_conditional_edges( tools_condition, graph_builder.add_edge(\"tools\", \"chatbot\") graph_builder.set_entry_point(\"chatbot\") def tools_condition( ) -> Literal[\"tools\", \"__end__\"]: return \"tools\"'},\n",
       " {'url': 'https://qiita.com/sakuraia/items/27db3f118e0ee41c54c1',\n",
       "  'content': 'from langgraph.graph.message import add_messages graph_builder.add_edge(START, \"chatbot\") graph_builder.add_edge(\"chatbot\", END) from langgraph.graph.message import add_messages `add_messages` `graph_builder.add_edge(START, \"chatbot\") graph_builder.add_edge(\"chatbot\", END)` `chatbot_tools.py` from langgraph.graph.message import add_messages @tool @tool tools = [multiply_function, add_function] result = llm_with_tools.invoke(state[\"messages\"]) for tool_call in last_message.tool_calls: tool_messages = ToolMessage( content=tool_output, name=tool_call[\"name\"], tool_call_id=tool_call[\"id\"], messages.append(tool_messages) if last_message.tool_calls: return \"tool\" # tool Nodeの追加 graph_builder.add_node(\"tool\", tool) graph_builder.add_edge(\"tool\", \"chatbot\") graph_builder.add_edge(START, \"chatbot\") `(.venv) C:\\\\Users\\\\Username\\\\training>python chatbot_tools.py` @tool @tool LLMから呼び出される関数を定義します。`@toolデコレータ`を使用して関数を定義することでLLMから呼び出される関数を作成することができます。ここでは、2つの引数を取って掛け算の結果を返す`multiply_function`と足し算の結果を返す`add_function`を作成します。関数の`docstring`は、LLMがプロンプトの内容から適切な関数(tool)を判断して呼び出す際に利用されます。そのため、docstringに適切な説明を記載することは重要です。`tools_dict`はLLMがツールを呼び出す際に使用するツールの辞書です。 tools = [multiply_function, add_function] from langgraph.graph.message import add_messages result = llm_with_tools.invoke(state[\"messages\"]) ##### tool Nodeの定義 for tool_call in last_message.tool_calls: tool_messages = ToolMessage( content=tool_output, name=tool_call[\"name\"], tool_call_id=tool_call[\"id\"], messages.append(tool_messages) tool関数は、stateオブジェクトを受け取り、`state[\"messages\"][-1]`によってstateオブジェクトに保存されている最後のメッセージを取得します。for文では最後のメッセージに含まれる`too_calls`からツール情報を取得し、too\\\\_callsの`name`をもとにtoolの定義で定義したツールの辞書(tools\\\\_dict)から実際のツールを呼び出します。また、ツールの変数としてtoo\\\\_callsの`args`を渡してツールを実行します。ツールの実行結果を使用して`ToolMessage`オブジェクトを作成します。ToolMessageのパラメータとして、content(ツールの実行結果)、name(ツールの名前)、tool\\\\_call\\\\_id(ツールのID)を設定します。作成したToolMessageオブジェクトは、`messages`に追加します。戻り値はStateクラスの辞書型に合わせるため、keyとしてmessages、valueとしてmessagesリストを設定して返しています。 if last_message.tool_calls: return \"tool\" 条件分岐を判断するためrouter関数を定義します。router関数は、stateオブジェクトを受け取り、`state[\"messages\"][-1]`によってstateオブジェクトに保存されている最後のメッセージを取得します。if文では最後のメッセージにツールの呼び出しに対応する`tool_call`が存在するかを判定します。具体的には、`last_message.tool_calls`を判定し、tool\\\\_callが存在する場合は\"tool\"を返し、それ以外の場合は\"end\"を返します。 `tool_call` `last_message.tool_calls` graph_builder.add_node(\"tool\", tool)` 条件付きEdgeは、条件に基づいて遷移先のNodeを決定するEdgeです。`add_conditional_edges`関数を使用します。第1引数に遷移元のNode名を設定します。第2引数には条件分岐を判断する関数を設定します。本例では、条件分岐を判断する関数の定義で定義したrouter関数を設定します。第3引数には第2引数の関数で返される値とその値に対応する遷移先のNodeを辞書型で設定します。router関数の戻り値が\"tool\"の場合はtool Nodeへ遷移し、\"end\"の場合はENDへ遷移します。 graph_builder.add_edge(\"tool\", \"chatbot\") graph_builder.add_edge(START, \"chatbot\")` `add_edge`関数で遷移元のNodeと遷移先のNodeを定義します。graph\\\\_builder.add\\\\_edge(\"tool\", \"chatbot\")は、tool Nodeからchatbot Nodeへの遷移を設定します。graph\\\\_builder.add\\\\_edge(START, \"chatbot\")は、STARTからchatbot Nodeへの遷移を設定します。 \\'tool_calls\\':[ tool_calls=[ tool_call_id=\\'call_lT9Qfzb9LsKlcJ0nFgXHU4so\\'), tool_call_id=\\'call_uhocLNTmBaEamMt1G7NNQAo5\\'), \\'tool_calls\\':[ tool_calls=[ tool_call_id=\\'call_6nNQUiItocW0i67BZStdMZlF\\'), \\'tool_calls\\':[ tool_calls=[ tool_call_id=\\'call_DPt0KPDmLPWOgXonPzAGl5FE\\'), グラフ可視化(chatbot_tools).png グラフ可視化(chatbot_tools).png'}]"
      ]
     },
     "execution_count": 3,
     "metadata": {},
     "output_type": "execute_result"
    }
   ],
   "source": [
    "tool.invoke(\"Langgraphのノードとは？\")"
   ]
  },
  {
   "cell_type": "code",
   "execution_count": 4,
   "id": "6c9c0e2b",
   "metadata": {},
   "outputs": [
    {
     "data": {
      "text/plain": [
       "<langgraph.graph.state.StateGraph at 0x11a00e6f0>"
      ]
     },
     "execution_count": 4,
     "metadata": {},
     "output_type": "execute_result"
    }
   ],
   "source": [
    "from typing import Annotated\n",
    "from typing_extensions import TypedDict\n",
    "from langgraph.graph import StateGraph\n",
    "from langgraph.graph.message import add_messages\n",
    "\n",
    "# Stateクラスの定義\n",
    "class State(TypedDict):\n",
    "    messages: Annotated[list, add_messages]\n",
    "\n",
    "# グラフのインスタンスを作成\n",
    "graph_builder = StateGraph(State)\n",
    "\n",
    "# 言語モデルの定義\n",
    "llm = ChatOpenAI(model_name=MODEL_NAME)\n",
    "\n",
    "# 変更点：ツール定義の紐づけ\n",
    "llm_with_tools = llm.bind_tools(tools)\n",
    "\n",
    "# チャットボットノードの作成\n",
    "def chatbot(state: State):\n",
    "    return {\"messages\": [llm_with_tools.invoke(state[\"messages\"])]}\n",
    "\n",
    "# グラフにチャットボットノードを追加\n",
    "graph_builder.add_node(\"chatbot\", chatbot)"
   ]
  },
  {
   "cell_type": "code",
   "execution_count": 5,
   "id": "240bcb16",
   "metadata": {},
   "outputs": [],
   "source": [
    "from langgraph.prebuilt import ToolNode, tools_condition\n",
    "from langgraph.checkpoint.memory import MemorySaver\n",
    "\n",
    "# ツールノードの作成\n",
    "tool_node = ToolNode(tools)\n",
    "\n",
    "# グラフにツールノードを追加\n",
    "graph_builder.add_node(\"tools\", tool_node)\n",
    "\n",
    "# 条件付エッジの作成\n",
    "graph_builder.add_conditional_edges(\n",
    "    \"chatbot\",\n",
    "    tools_condition, # ツール呼出と判断したらツールノードを呼ぶ\n",
    ")\n",
    "\n",
    "# ツールが呼び出されるたびに、チャットボットに戻って次のステップを決定\n",
    "# ツールからチャットボットへの戻りエッジを作成\n",
    "graph_builder.add_edge(\"tools\", \"chatbot\")\n",
    "\n",
    "# 開始ノードの指定\n",
    "graph_builder.set_entry_point(\"chatbot\")\n",
    "\n",
    "# 記憶を持つ実行可能なステートグラフの作成\n",
    "memory = MemorySaver()\n",
    "graph = graph_builder.compile(checkpointer=memory)"
   ]
  },
  {
   "cell_type": "code",
   "execution_count": 6,
   "id": "6790a03a",
   "metadata": {},
   "outputs": [
    {
     "data": {
      "image/png": "[encoded data removed]",
      "text/plain": [
       "<IPython.core.display.Image object>"
      ]
     },
     "metadata": {},
     "output_type": "display_data"
    }
   ],
   "source": [
    "# グラフの可視化\n",
    "from IPython.display import Image, display\n",
    "\n",
    "display(Image(graph.get_graph().draw_mermaid_png()))"
   ]
  },
  {
   "cell_type": "code",
   "execution_count": 7,
   "id": "eaf50555",
   "metadata": {},
   "outputs": [
    {
     "name": "stdout",
     "output_type": "stream",
     "text": [
      "1たす2は？\n",
      "1たす2は3です。\n",
      "1メートル以上の魚は？\n",
      "\n",
      "[{\"url\": \"http://world-rivers.net/info03.html\", \"content\": \"大型魚は小型魚にはない存在感と、ダイナミックに泳いでいる姿など様々な魅力があります。しかし、大型であるがために注意しなければならない点もいくつかございます。\"}, {\"url\": \"https://tsurihack.com/8448\", \"content\": \"# 【怪魚釣り】メーターオーバーの怪魚たちを難易度別にご紹介 今回は、身近な河川で狙える手軽に狙える怪魚から、幻の魚と言われる怪魚まで。 2024/06/12 更新 * + 魚の力強さを体感できる + 迫力満点な写真が撮れます + “目標を持った魚釣りの魅力”をお伝えしたい * + どんな大物を釣りたいか決めましょう + 何処でどんな釣り具を使えば釣れるか勉強しましょう + 諦めずに釣り場に通いましょう * + 大物は意外と身近にもいるんです * + 1mを超えるコイは超絶レアですよ！ * + 噛まれると怪我をするので要注意 + 冬のウツボをぜひ味わってみて欲しい * + ちなみに……オオウナギはあまり美味しくないんです * + 比較的大人しいサメですが、噛まれないように注意しましょう * + ヘラブナ用のエサと仕掛けで釣ることができます * + 近所の川や池に一際大きい魚が棲んでいないか観察してみよう * + 大物釣りの魅力が味わえるビワコオオナマズ釣り * + 日本が誇るスーパースター“アカメ” * + 何日も何か月も、時に何年も釣れないことがある幻の魚 * + ライタープロフィール + 関連記事 ## 大物を釣る楽しさと魅力を語る ### 魚の力強さを体感できる 大物釣りの魅力のひとつに、**魚達の力強さを一本の釣り糸を通して体感できる**ことがあります。 もちろん、魚の引きの強度やランディングに至るまでの難易度は魚種によってさまざま。今回の記事では、難易度別に魅力的な大物をご紹介していきます。 ### 迫力満点な写真が撮れます 自分なりに苦労したり試行錯誤して釣り上げた大物の写真って、時間が経っても見返したくなるものです。 時には魚体が大きすぎて陸に揚げられず、自ら水中に入って写真を撮るなんてこともよくあります。 大物を狙っていると、“**イッピキの価値に気が付くキッカケになり、釣り上げた魚を大切に扱いたい”**と価値観が変わることもありますよ。 ### “目標を持った魚釣りの魅力”をお伝えしたい 最大で1mに迫るような大物を釣り狙う場合、例え身近な魚であっても釣り具の強度や仕掛け、ルアーの種類などをしっかり選ぶ必要があります。 **『この魚を釣ってみたい！』という確固たる目標を持って挑戦していく過程**が大物釣り最大の醍醐味であり、準備や試行錯誤の期間が長い程、目標を手にした瞬間、つまり大物を釣り上げた瞬間の感動と達成感はなんとも言葉に表すことができないものになってきます。 全身が震えたり、感情を抑えられず雄たけびやガッツポーズが出ちゃったりする……そんな体験を大人になっても味わえる。それが魚釣りの良い所だと僕は思っています。 ## 大物を釣り上げるまでの3ステップをお伝えします ### どんな大物を釣りたいか決めましょう まずは、自分の目標とする魚を設定しましょう。魚種でも良いですし、この魚の何センチ以上！　とかでも素敵な目標だと思います。 他人に認められる魚とか、SNSでイイネをたくさんもらえそうな魚とかでも良いかもしれませんが、大切なのは、**“自分が釣ってみたい魚や大きさ”**を意識すること。 僕はいつも、自分の好奇心と探求心を一番大切にするように心がけています。 ### 何処でどんな釣り具を使えば釣れるか勉強しましょう 目標とする魚が決まったら、その魚の生態や生息域を勉強しましょう。 このステップをすっ飛ばしてしまうと、**“釣れた魚や釣り場の環境に対する想いや価値観”**が半減してしまいがちに……。 たとえ誰かに釣り場を案内してもらう時であっても、釣りたい魚がどんな環境で暮らしている生き物なのか図鑑や文献などで簡単にでも調べておくと良いですよ。 ### 諦めずに釣り場に通いましょう 魚種やサイズによって大物釣りの難易度は、1日で釣れるものから数年かかるものまで様々です。 自分が定めた目標に向かって、釣れない日や掛かってもバラしてしまう日だってあるかもしれませんが、諦めずに釣り場に通ってみましょう。 手早く、狙った大物を釣り上げる腕利きの釣り人の方がカッコ良く見えるかもしれませんが、僕は**たくさん努力したことで全身が震えるあの感動を味わえている人**も素敵だなといつも感じます。 ## 近所に潜む大物10選＆レア度をご紹介 ### 大物は意外と身近にもいるんです 釣り初心者](https://tsurihack.com/907)[代表的なタイラバの結び方4種類を解説｜ノットごとのメリット・デメリットも紹介](https://tsurihack.com/7094)[【万能エサ】アオイソメの付け方3パターンを元釣具屋が解説！垂らしの長さで釣果が変わる](https://tsurihack.com/7300)[【迷ったらここ！】神奈川でおすすめの川遊びスポット10選！ 釣り初心者](https://tsurihack.com/4255)[初心者に最適な東京の釣りスポット6選とたくさん釣るためのコツ 釣り初心者](https://tsurihack.com/2898)[ちゃんと見分けられるかな？ケンサキイカ・ヤリイカ・スルメイカを外見・性質・食味で比較](https://tsurihack.com/8250)[【簡単×いろいろ釣れる】ぶっこみ釣り入門講座｜道具・仕掛け・釣り方を解説 エサ釣り](https://tsurihack.com/4911)[5分でわかるチニングの基礎！時期・ルアー・釣り方をエキスパートが解説](https://tsurihack.com/6166) [【泳がせ釣り超入門】仕掛け・エサの付け方・釣り方を元釣具屋がわかりやすく解説！](https://tsurihack.com/5812)[「釣竿の種類」釣り竿（ロッド）選びに迷っている方必見！選び方のポイントとは 釣具](https://tsurihack.com/2839)[釣り人にとっての楽園を見つけた！釣り旅で“一生の思い出”ができた話 SNS・おもしろ系](https://tsurihack.com/4128)[太刀魚の刺身！美味しく味わう釣った太刀魚の捌き方とは 魚図鑑・魚料理](https://tsurihack.com/1013)[【福岡県の釣り堀】手ぶらでOK！？家族で楽しめるスポット5選！ 釣り場情報](https://tsurihack.com/1378)[ソウダガツオの旬と食べ方とは？釣り方から料理までまとめて指南 魚図鑑・魚料理](https://tsurihack.com/1331)[【オモリの号数換算表】1号は何グラム？ややこしい単位がわかる 釣り初心者](https://tsurihack.com/2696)[木更津で釣り！オススメ5選の釣り場と、釣り船屋さん情報！ 釣り場情報](https://tsurihack.com/1036) [【知らないとソン？】海釣りで釣果を左右する“潮の上げ・下げ”について徹底解説！](https://tsurihack.com/1920)[5分でわかるバチコンアジング！タックル・仕掛け・たくさん釣るコツを元釣具屋が解説](https://tsurihack.com/8107)[もはや冷蔵庫。「最強のクーラーボックス」を元釣具屋が厳選！ 釣具](https://tsurihack.com/5184)[釣り人に聞いた｜今まで釣った中で「一番不味いと思った魚」ワーストランキング SNS・おもしろ系](https://tsurihack.com/2781)[【ハゼ釣り４種の定番仕掛け】作り方から必要な道具（竿・リールなど）コツまで徹底解説 釣り初心者](https://tsurihack.com/1837)[釣り糸（ライン）の号数とポンドについて。太さの規格について正しく知ろう！（換算表付き） 釣り初心者](https://tsurihack.com/2746)[【ハゼクラ超入門】ハゼのルアー釣りを超わかりやすく元釣具屋が解説](https://tsurihack.com/5722)[ショゴは刺身が美味しい！シオ・ネリゴとも呼ばれるカンパチの若魚について 魚図鑑・魚料理](https://tsurihack.com/1571) 釣り初心者](https://tsurihack.com/809)[鯛の種類ってどれだけ？！代表的な24種の特徴の違いを解説 魚図鑑・魚料理](https://tsurihack.com/3920)[アツさを忘れて夢中になっちゃう！【8月】に釣れるおすすめの魚・5選 SNS・おもしろ系](https://tsurihack.com/4360)[【簡単＆手軽】魚の骨格標本の作り方をおしえます。家にあるものでできちゃいます！ SNS・おもしろ系](https://tsurihack.com/5603)[1ポンドは何キロ？悩んだら見て欲しいポンドとキロの換算表 釣り初心者](https://tsurihack.com/2527)[【釣り×科学】ボラジャンプの理由は酸欠？調査でわかった酸素量との関係 SNS・おもしろ系](https://tsurihack.com/3972)[【ジグサビキ超入門】時期・仕掛け・釣り方を元釣具屋がわかりやすく解説 ショアジギング](https://tsurihack.com/5652)[【夜釣りが面白い】 狙える魚種と必要な装備・仕掛け・ルアーはコレだ！ 釣り初心者](https://tsurihack.com/104)\"}]\n",
      "1メートル以上の魚には、以下のようなものがあります：\n",
      "\n",
      "1. **アカメ** - 日本が誇る大型魚で、非常に珍しい存在です。\n",
      "2. **ビワコオオナマズ** - 大物釣りの魅力を体感できる魚です。\n",
      "3. **オオウナギ** - サイズも大きく、釣りの対象として人気がありますが、食味はあまり良くないと言われています。\n",
      "4. **サメ類** - 比較的大きくなる種類が多く、注意が必要です。\n",
      "\n",
      "これらの魚は、釣りの対象としても人気があり、特に大物を狙う釣り人にとっては魅力的な存在です。釣る際には、釣り具の強度や仕掛けに注意が必要です。\n",
      "\n",
      "詳しくは、[こちらのリンク](https://tsurihack.com/8448)からご覧ください。\n",
      "ありがとうございました!\n"
     ]
    }
   ],
   "source": [
    "# グラフの実行と結果の表示\n",
    "def stream_graph_updates(user_input: str):\n",
    "    events = graph.stream(\n",
    "        {\"messages\": [(\"user\", user_input)]},\n",
    "        {\"configurable\": {\"thread_id\": \"1\"}},\n",
    "        stream_mode=\"values\")\n",
    "    # 結果をストリーミングで得る\n",
    "    for event in events:\n",
    "        print(event[\"messages\"][-1].content, flush=True)\n",
    "\n",
    "# チャットボットのループ\n",
    "while True:\n",
    "    user_input = input(\"質問:\")\n",
    "    if user_input.strip()==\"\":\n",
    "        print(\"ありがとうございました!\")\n",
    "        break\n",
    "    stream_graph_updates(user_input)"
   ]
  }
 ],
 "metadata": {
  "kernelspec": {
   "display_name": ".venv",
   "language": "python",
   "name": "python3"
  },
  "language_info": {
   "codemirror_mode": {
    "name": "ipython",
    "version": 3
   },
   "file_extension": ".py",
   "mimetype": "text/x-python",
   "name": "python",
   "nbconvert_exporter": "python",
   "pygments_lexer": "ipython3",
   "version": "3.12.10"
  }
 },
 "nbformat": 4,
 "nbformat_minor": 5
}
