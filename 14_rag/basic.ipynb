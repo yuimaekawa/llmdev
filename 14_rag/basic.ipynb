{
 "cells": [
  {
   "cell_type": "code",
   "execution_count": 1,
   "id": "b1445fca",
   "metadata": {},
   "outputs": [],
   "source": [
    "# 必要なモジュールをインポート\n",
    "import os\n",
    "from dotenv import load_dotenv\n",
    "from llama_index.core import VectorStoreIndex, SimpleDirectoryReader\n",
    "from llama_index.llms.openai import OpenAI\n",
    "\n",
    "# 環境変数の取得\n",
    "load_dotenv(\"../.env\")\n",
    "os.environ['OPENAI_API_KEY']  = os.environ['API_KEY']\n",
    "\n",
    "# モデル名\n",
    "MODEL_NAME = \"gpt-4o-mini\""
   ]
  },
  {
   "cell_type": "code",
   "execution_count": 2,
   "id": "314fb06f",
   "metadata": {},
   "outputs": [],
   "source": [
    "# ドキュメントからテキスト情報を読込\n",
    "documents = SimpleDirectoryReader('./data/text').load_data()\n",
    "\n",
    "# インデックスの構築\n",
    "index = VectorStoreIndex.from_documents(documents)"
   ]
  },
  {
   "cell_type": "code",
   "execution_count": 3,
   "id": "4ade3be6",
   "metadata": {},
   "outputs": [],
   "source": [
    "# Chat Engineの作成\n",
    "llm = OpenAI(model=MODEL_NAME)\n",
    "chat_engine = index.as_chat_engine(chat_mode=\"openai\", llm=llm, verbose=True)"
   ]
  },
  {
   "cell_type": "code",
   "execution_count": 4,
   "id": "f2271a59",
   "metadata": {},
   "outputs": [
    {
     "name": "stdout",
     "output_type": "stream",
     "text": [
      "Added user message to memory: 有給休暇はいつから取得できますか？\n",
      "=== Calling Function ===\n",
      "Calling function: query_engine_tool with args: {\"input\":\"有給休暇はいつから取得できますか？\"}\n",
      "Got output: 有給休暇は、入社から6ヶ月継続勤務し、全労働日の8割以上出勤した場合に初めて付与され、その後取得可能となります。\n",
      "========================\n",
      "\n",
      "有給休暇は、入社から6ヶ月継続勤務し、全労働日の8割以上出勤した場合に初めて付与され、その後取得可能となります。\n"
     ]
    }
   ],
   "source": [
    "# 質問：1回目\n",
    "response = chat_engine.chat(\"有給休暇はいつから取得できますか？\")\n",
    "\n",
    "# 言語モデルからの回答を表示\n",
    "print(response)"
   ]
  },
  {
   "cell_type": "code",
   "execution_count": 5,
   "id": "360cae56",
   "metadata": {},
   "outputs": [
    {
     "name": "stdout",
     "output_type": "stream",
     "text": [
      "ファイル名： 03休暇規則.md\n",
      "関連度スコア: 0.8654404695144475\n",
      "テキスト：\n",
      "1. 年次有給休暇（有給休暇）\n",
      "\n",
      "1. **有給休暇とは**\n",
      "\n",
      "   - 有給休暇は、給与を受け取りながら休暇を取得できる制度です。\n",
      "   - 心身のリフレッシュや私用のために自由に利用できます。\n",
      "\n",
      "2. **付与日数**\n",
      "\n",
      "   - 入社から6ヶ月継続勤務し、全労働日の8割以上出勤した場合に、初めて有給休暇が付与されます。\n",
      "   - 初年度は10日間の有給休暇が付与され、その後は勤続年数に応じて増加します。\n",
      "\n",
      "     | 勤続年数 | 年次有給休暇日数 |\n",
      "     |----------|----------------|\n",
      "     | 0.5年    | 10日           |\n",
      "     | 1.5年    | 11日           |\n",
      "     | 2.5年    | 12日           |\n",
      "     | 3.5年    | 14日           |\n",
      "     | 4.5年    | 16日           |\n",
      "     | 5.5年    | 18日           |\n",
      "     | 6.5年以上 | 20日           |\n",
      "\n",
      "3. **有給休暇の取得方法**\n",
      "\n",
      "   - 有給休暇を取得する際は、原則として**3日前**までに上司に申請してください。\n",
      "   - 緊急の場合は、当日の申請も可能ですが、できるだけ早めに連絡をお願いします。\n",
      "   - 申請は、社内の休暇申請システムを利用してください。\n",
      "\n",
      "4. **有給休暇の繰越し**\n",
      "\n",
      "   - 未使用の有給休暇は、翌年度に限り繰り越すことができます。\n",
      "   - 最大で40日間の有給休暇を保有することが可能です。\n",
      "--------------------------------------------------\n",
      "ファイル名： 08福利厚生規則.md\n",
      "関連度スコア: 0.8609039130696496\n",
      "テキスト：\n",
      "2. 休暇制度\n",
      "\n",
      "福利厚生として、従業員の休暇取得を支援するため、さまざまな休暇制度を用意しています。\n",
      "\n",
      "1. **年次有給休暇**\n",
      "   - 法定に基づき、継続勤務6ヶ月以上の従業員には年次有給休暇が付与されます。年度ごとに一定の日数が付与され、取得可能です。\n",
      "\n",
      "2. **特別休暇**\n",
      "   - 結婚や出産、家族の不幸など、特別な事情に応じて付与される特別休暇です。\n",
      "   - 結婚休暇、忌引休暇、出産休暇などが含まれ、無給または有給で取得できます。\n",
      "\n",
      "3. **リフレッシュ休暇**\n",
      "   - 勤続5年ごとに5日間のリフレッシュ休暇が付与され、リフレッシュや自己研鑽のために利用できます。\n",
      "--------------------------------------------------\n"
     ]
    }
   ],
   "source": [
    "# 引用元を表示\n",
    "for source in response.sources:\n",
    "    for source_node in source.raw_output.source_nodes:\n",
    "        print(\"ファイル名：\", source_node.metadata[\"file_name\"])\n",
    "        print(\"関連度スコア:\", source_node.score)\n",
    "        print(\"テキスト：\")\n",
    "        print(source_node.node.text)\n",
    "        print(\"-\" * 50)  # 区切り線"
   ]
  },
  {
   "cell_type": "code",
   "execution_count": 6,
   "id": "20d44e0f",
   "metadata": {},
   "outputs": [
    {
     "name": "stdout",
     "output_type": "stream",
     "text": [
      "Added user message to memory: 勤続年数が5年の場合は何日ですか？\n",
      "=== Calling Function ===\n",
      "Calling function: query_engine_tool with args: {\"input\":\"勤続年数が5年の場合の有給休暇の日数は何日ですか？\"}\n",
      "Got output: 勤続年数が5年の場合の有給休暇の日数は18日です。\n",
      "========================\n",
      "\n",
      "勤続年数が5年の場合の有給休暇の日数は18日です。\n"
     ]
    }
   ],
   "source": [
    "# 質問：2回目\n",
    "response = chat_engine.chat(\"勤続年数が5年の場合は何日ですか？\")\n",
    "\n",
    "# 言語モデルからの回答を表示\n",
    "print(response)"
   ]
  },
  {
   "cell_type": "code",
   "execution_count": 7,
   "id": "d4cd49c8",
   "metadata": {},
   "outputs": [
    {
     "name": "stdout",
     "output_type": "stream",
     "text": [
      "ファイル名： 03休暇規則.md\n",
      "関連度スコア: 0.8585595672530347\n",
      "テキスト：\n",
      "3. 特別有給休暇\n",
      "\n",
      "会社が特別に認めた有給の休暇です。\n",
      "\n",
      "1. **リフレッシュ休暇**\n",
      "\n",
      "   - **勤続5年**ごとに、連続した**5日間**のリフレッシュ休暇が取得できます。\n",
      "   - リフレッシュ休暇は、有給休暇とは別に付与されます。\n",
      "\n",
      "2. **ボランティア休暇**\n",
      "\n",
      "   - 社会貢献活動を支援するため、年間**2日間**のボランティア休暇を取得できます。\n",
      "   - ボランティア休暇を取得する際は、活動内容を事前に上司へ報告してください。\n",
      "--------------------------------------------------\n",
      "ファイル名： 03休暇規則.md\n",
      "関連度スコア: 0.8548123920908239\n",
      "テキスト：\n",
      "1. 年次有給休暇（有給休暇）\n",
      "\n",
      "1. **有給休暇とは**\n",
      "\n",
      "   - 有給休暇は、給与を受け取りながら休暇を取得できる制度です。\n",
      "   - 心身のリフレッシュや私用のために自由に利用できます。\n",
      "\n",
      "2. **付与日数**\n",
      "\n",
      "   - 入社から6ヶ月継続勤務し、全労働日の8割以上出勤した場合に、初めて有給休暇が付与されます。\n",
      "   - 初年度は10日間の有給休暇が付与され、その後は勤続年数に応じて増加します。\n",
      "\n",
      "     | 勤続年数 | 年次有給休暇日数 |\n",
      "     |----------|----------------|\n",
      "     | 0.5年    | 10日           |\n",
      "     | 1.5年    | 11日           |\n",
      "     | 2.5年    | 12日           |\n",
      "     | 3.5年    | 14日           |\n",
      "     | 4.5年    | 16日           |\n",
      "     | 5.5年    | 18日           |\n",
      "     | 6.5年以上 | 20日           |\n",
      "\n",
      "3. **有給休暇の取得方法**\n",
      "\n",
      "   - 有給休暇を取得する際は、原則として**3日前**までに上司に申請してください。\n",
      "   - 緊急の場合は、当日の申請も可能ですが、できるだけ早めに連絡をお願いします。\n",
      "   - 申請は、社内の休暇申請システムを利用してください。\n",
      "\n",
      "4. **有給休暇の繰越し**\n",
      "\n",
      "   - 未使用の有給休暇は、翌年度に限り繰り越すことができます。\n",
      "   - 最大で40日間の有給休暇を保有することが可能です。\n",
      "--------------------------------------------------\n"
     ]
    }
   ],
   "source": [
    "# 引用元を表示\n",
    "for source in response.sources:\n",
    "    for source_node in source.raw_output.source_nodes:\n",
    "        print(\"ファイル名：\", source_node.metadata[\"file_name\"])\n",
    "        print(\"関連度スコア:\", source_node.score)\n",
    "        print(\"テキスト：\")\n",
    "        print(source_node.node.text)\n",
    "        print(\"-\" * 50)  # 区切り線"
   ]
  }
 ],
 "metadata": {
  "kernelspec": {
   "display_name": ".venv",
   "language": "python",
   "name": "python3"
  },
  "language_info": {
   "codemirror_mode": {
    "name": "ipython",
    "version": 3
   },
   "file_extension": ".py",
   "mimetype": "text/x-python",
   "name": "python",
   "nbconvert_exporter": "python",
   "pygments_lexer": "ipython3",
   "version": "3.12.10"
  }
 },
 "nbformat": 4,
 "nbformat_minor": 5
}
