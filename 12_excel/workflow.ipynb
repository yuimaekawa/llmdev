{
 "cells": [
  {
   "cell_type": "code",
   "execution_count": 1,
   "id": "8306a70e",
   "metadata": {},
   "outputs": [],
   "source": [
    "# 必要なモジュールをインポート\n",
    "import os\n",
    "from dotenv import load_dotenv\n",
    "from openai import OpenAI\n",
    "import pandas as pd\n",
    "\n",
    "# 環境変数の取得\n",
    "load_dotenv()\n",
    "\n",
    "# OpenAI APIクライアントを生成\n",
    "client = OpenAI(api_key=os.environ['API_KEY'])\n",
    "\n",
    "# モデル名\n",
    "MODEL_NAME = \"gpt-4o-mini\""
   ]
  },
  {
   "cell_type": "code",
   "execution_count": 2,
   "id": "076f1c1d",
   "metadata": {},
   "outputs": [],
   "source": [
    "# データの読み込みと前処理を行う関数\n",
    "def load_and_process_data(file_path):\n",
    "    # Excelファイルを読み込む\n",
    "    df = pd.read_excel(file_path, sheet_name='売上データ')\n",
    "\n",
    "    # 「売上」列を追加（単価 * 数量）\n",
    "    df[\"売上\"] = df[\"単価\"] * df[\"数量\"]\n",
    "\n",
    "    # 「売上日」列をdatetime型に変換\n",
    "    df[\"売上日\"] = pd.to_datetime(df[\"売上日\"])\n",
    "\n",
    "    # 「年月」列を追加（売上日の年と月を抽出）\n",
    "    df[\"年月\"] = df[\"売上日\"].dt.strftime('%Y-%m')\n",
    "\n",
    "    # データフレームを返す\n",
    "    return df"
   ]
  },
  {
   "cell_type": "code",
   "execution_count": 3,
   "id": "b434dec5",
   "metadata": {},
   "outputs": [],
   "source": [
    "# 集計を行う関数\n",
    "def sum_sales_data(df):\n",
    "    # 月ごとのカテゴリー別売上合計を集計\n",
    "    pivot_table = pd.pivot_table(\n",
    "        df,\n",
    "        index='カテゴリー',   # 行にする項目\n",
    "        columns='年月',       # 列にする項目\n",
    "        values='売上',        # 集計対象の項目\n",
    "        aggfunc='sum',        # 集計方法（ここでは合計を指定）\n",
    "        fill_value=0          # NaNの代わりに埋める値\n",
    "    )\n",
    "\n",
    "    # ピボットテーブルを返す\n",
    "    return pivot_table"
   ]
  },
  {
   "cell_type": "code",
   "execution_count": 4,
   "id": "df0de4e8",
   "metadata": {},
   "outputs": [],
   "source": [
    "# データをプロンプトに変換する関数\n",
    "def convert_to_prompt(df, pivot_table):\n",
    "    # データフレーム全体を文字列に変換\n",
    "    sales_data_text = df.astype(str)\n",
    "\n",
    "    # 集計結果を文字列に変換\n",
    "    pivot_table_text = pivot_table.astype(str)\n",
    "\n",
    "    # プロンプトの作成\n",
    "    prompt_text = f\"\"\"\n",
    "    売上データ:\n",
    "    {sales_data_text}\n",
    "    月ごとのカテゴリー別売上合計：\n",
    "    {pivot_table_text}\n",
    "    上記の「売上データ」と「月ごとのカテゴリー別売上合計」をもとに、カテゴリー毎の売上戦略を考案してください。\n",
    "    \"\"\"\n",
    "\n",
    "    # プロンプトを返す\n",
    "    return prompt_text"
   ]
  },
  {
   "cell_type": "code",
   "execution_count": 5,
   "id": "f6482dc6",
   "metadata": {},
   "outputs": [],
   "source": [
    "# OpenAI APIの呼び出しを行う関数\n",
    "def get_openai_response(client, prompt_text, model_name=\"gpt-4o-mini\"):\n",
    "    # 役割を設定\n",
    "    role = \"あなたはマーケティング分野に精通したデータサイエンティストです。企業の成長をサポートするために、効果的なインサイトを提供します。\"\n",
    "\n",
    "    # APIへリクエスト\n",
    "    response = client.chat.completions.create(\n",
    "        model=model_name,\n",
    "        messages=[\n",
    "            {\"role\": \"system\", \"content\": role},\n",
    "            {\"role\": \"user\", \"content\": prompt_text},\n",
    "        ],\n",
    "    )\n",
    "\n",
    "    # 結果を取得\n",
    "    result = response.choices[0].message.content.strip()\n",
    "\n",
    "    # 結果を返す\n",
    "    return result"
   ]
  },
  {
   "cell_type": "code",
   "execution_count": 6,
   "id": "f08e06a6",
   "metadata": {},
   "outputs": [],
   "source": [
    "# 結果をファイルに保存する関数\n",
    "def save_result_to_file(result, file_path=\"カテゴリー毎の売上戦略.md\"):\n",
    "    with open(file_path, mode=\"w\", encoding=\"utf-8\") as file:\n",
    "        file.write(result)"
   ]
  },
  {
   "cell_type": "code",
   "execution_count": 7,
   "id": "6a49cad8",
   "metadata": {},
   "outputs": [],
   "source": [
    "# ワークフロー（メイン処理）\n",
    "def main():\n",
    "    print(\"処理を開始します。\")\n",
    "\n",
    "    # 1.データの読み込みと前処理\n",
    "    print(\"（1/5）データの読み込みと前処理\")\n",
    "    df = load_and_process_data('サンプルデータ.xlsx')\n",
    "\n",
    "    # 2.集計\n",
    "    print(\"（2/5）集計\")\n",
    "    pivot_table = sum_sales_data(df)\n",
    "\n",
    "    # 3.プロンプト生成\n",
    "    print(\"（3/5）プロンプト生成\")\n",
    "    prompt_text = convert_to_prompt(df, pivot_table)\n",
    "\n",
    "    # 4.OpenAI APIからの応答を取得\n",
    "    print(\"（4/5）OpenAI APIからの応答を取得\")\n",
    "    result = get_openai_response(client, prompt_text)\n",
    "\n",
    "    # 5.結果をファイルに保存\n",
    "    print(\"（5/5）結果をファイルに保存\")\n",
    "    save_result_to_file(result)\n",
    "    print(\"分析結果を保存しました。\")"
   ]
  },
  {
   "cell_type": "code",
   "execution_count": 8,
   "id": "d02c5a47",
   "metadata": {},
   "outputs": [
    {
     "name": "stdout",
     "output_type": "stream",
     "text": [
      "処理を開始します。\n",
      "（1/5）データの読み込みと前処理\n",
      "（2/5）集計\n",
      "（3/5）プロンプト生成\n",
      "（4/5）OpenAI APIからの応答を取得\n",
      "（5/5）結果をファイルに保存\n",
      "分析結果を保存しました。\n"
     ]
    }
   ],
   "source": [
    "# ワークフローの実行\n",
    "main()"
   ]
  }
 ],
 "metadata": {
  "kernelspec": {
   "display_name": ".venv",
   "language": "python",
   "name": "python3"
  },
  "language_info": {
   "codemirror_mode": {
    "name": "ipython",
    "version": 3
   },
   "file_extension": ".py",
   "mimetype": "text/x-python",
   "name": "python",
   "nbconvert_exporter": "python",
   "pygments_lexer": "ipython3",
   "version": "3.12.10"
  }
 },
 "nbformat": 4,
 "nbformat_minor": 5
}
