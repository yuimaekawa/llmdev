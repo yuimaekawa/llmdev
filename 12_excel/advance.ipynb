{
 "cells": [
  {
   "cell_type": "code",
   "execution_count": 1,
   "id": "76ea73c1",
   "metadata": {},
   "outputs": [],
   "source": [
    "# 必要なモジュールをインポート\n",
    "import os\n",
    "import json\n",
    "from dotenv import load_dotenv\n",
    "from openai import OpenAI\n",
    "import pandas as pd\n",
    "\n",
    "# 環境変数の取得\n",
    "load_dotenv()\n",
    "\n",
    "# OpenAI APIクライアントを生成\n",
    "client = OpenAI(api_key=os.environ['API_KEY'])\n",
    "\n",
    "# モデル名\n",
    "MODEL_NAME = \"gpt-4o-mini\""
   ]
  },
  {
   "cell_type": "code",
   "execution_count": 2,
   "id": "0f4649cb",
   "metadata": {},
   "outputs": [],
   "source": [
    "# 住所から県名を推測して補完する関数\n",
    "def extract_prefecture(address):\n",
    "    # プロンプトの作成\n",
    "    prompt_text = f\"次の住所に基づいて、対応する都道府県名を推測し、「都道府県名」のみを答えてください：{address}\"\n",
    "    \n",
    "    try:\n",
    "        # OpenAI APIで応答を生成\n",
    "        response = client.chat.completions.create(\n",
    "            model=MODEL_NAME,\n",
    "            messages=[\n",
    "                {\"role\": \"user\", \"content\": prompt_text},\n",
    "            ],\n",
    "            max_tokens=100,  # 応答の長さを調整\n",
    "            temperature=0.3  # 創造性の調整\n",
    "        )\n",
    "        # キーワード抽出結果を取得\n",
    "        keywords = response.choices[0].message.content.strip()\n",
    "        return keywords\n",
    "    \n",
    "    except Exception as e:\n",
    "        print(f\"API呼び出しでエラーが発生しました: {e}\")\n",
    "        return \"エラー\""
   ]
  },
  {
   "cell_type": "code",
   "execution_count": 3,
   "id": "2d271ddd",
   "metadata": {},
   "outputs": [
    {
     "name": "stdout",
     "output_type": "stream",
     "text": [
      "東京都\n"
     ]
    }
   ],
   "source": [
    "# テストコードで確認\n",
    "text = extract_prefecture(\"渋谷区道玄坂1丁目16-3\")\n",
    "print(text)"
   ]
  },
  {
   "cell_type": "code",
   "execution_count": 4,
   "id": "63104c63",
   "metadata": {},
   "outputs": [
    {
     "name": "stdout",
     "output_type": "stream",
     "text": [
      "処理を開始します。\n",
      "Excelファイルに結果を保存しました。\n"
     ]
    }
   ],
   "source": [
    "# ワークフロー化\n",
    "print(\"処理を開始します。\")\n",
    "\n",
    "# Excelファイルを読み込む\n",
    "df = pd.read_excel('サンプルデータ.xlsx', sheet_name='住所')\n",
    "\n",
    "# A列の各行のアンケートに対してキーワード抽出を実行し、B列に書き込む\n",
    "df['都道府県'] = df['住所'].apply(extract_prefecture)\n",
    "\n",
    "# 結果をExcelファイルに保存\n",
    "df.to_excel(\"都道府県付住所.xlsx\", index=False)\n",
    "\n",
    "print(\"Excelファイルに結果を保存しました。\")"
   ]
  },
  {
   "cell_type": "code",
   "execution_count": 5,
   "id": "065080f4",
   "metadata": {},
   "outputs": [],
   "source": [
    "# 電話番号のフォーマットを統一する関数\n",
    "def format_phone_numbers(phone_number):\n",
    "    # プロンプトの作成\n",
    "    prompt_text = f\"次の電話番号を統一した形式「xxx-xxxx-xxxx」に変換してください。電話番号のみを出力してください: {phone_number}\"\n",
    "    \n",
    "    try:\n",
    "        # OpenAI APIで応答を生成\n",
    "        response = client.chat.completions.create(\n",
    "            model=MODEL_NAME,\n",
    "            messages=[\n",
    "                {\"role\": \"user\", \"content\": prompt_text},\n",
    "            ],\n",
    "            max_tokens=100,  # 応答の長さを調整\n",
    "            temperature=0.3  # 創造性の調整\n",
    "        )\n",
    "        # キーワード抽出結果を取得\n",
    "        keywords = response.choices[0].message.content.strip()\n",
    "        return keywords\n",
    "    \n",
    "    except Exception as e:\n",
    "        print(f\"API呼び出しでエラーが発生しました: {e}\")\n",
    "        return \"エラー\""
   ]
  },
  {
   "cell_type": "code",
   "execution_count": 6,
   "id": "f9b7e8a8",
   "metadata": {},
   "outputs": [
    {
     "name": "stdout",
     "output_type": "stream",
     "text": [
      "080-1234-5678\n"
     ]
    }
   ],
   "source": [
    "# テストコードで確認\n",
    "text = format_phone_numbers(\"080.1234.5678\")\n",
    "print(text)"
   ]
  },
  {
   "cell_type": "code",
   "execution_count": 7,
   "id": "3de8047f",
   "metadata": {},
   "outputs": [
    {
     "name": "stdout",
     "output_type": "stream",
     "text": [
      "処理を開始します。\n",
      "Excelファイルに結果を保存しました。\n"
     ]
    }
   ],
   "source": [
    "# ワークフロー化\n",
    "print(\"処理を開始します。\")\n",
    "\n",
    "# Excelファイルを読み込む\n",
    "df = pd.read_excel('サンプルデータ.xlsx', sheet_name='電話番号')\n",
    "\n",
    "# A列の各行のアンケートに対してキーワード抽出を実行し、B列に書き込む\n",
    "df['フォーマット後'] = df['電話番号'].apply(format_phone_numbers)\n",
    "\n",
    "# 結果をExcelファイルに保存\n",
    "df.to_excel(\"フォーマット後電話番号.xlsx\", index=False)\n",
    "\n",
    "print(\"Excelファイルに結果を保存しました。\")"
   ]
  },
  {
   "cell_type": "code",
   "execution_count": 8,
   "id": "bd94af13",
   "metadata": {},
   "outputs": [],
   "source": [
    "from openai.types.chat import ChatCompletionToolParam\n",
    "\n",
    "# ツール定義\n",
    "tools=[\n",
    "  ChatCompletionToolParam({\n",
    "    \"type\": \"function\",\n",
    "    \"function\": {\n",
    "      \"name\": \"get_products\",\n",
    "      \"description\": \"グループごとに統一した商品名「group_name」と、グループに属する商品名のリスト「products」を結合した結果を返す\",\n",
    "      \"parameters\": {\n",
    "        \"type\": \"object\",\n",
    "        \"properties\": {\n",
    "          \"product_data\": {\n",
    "            \"type\": \"array\",\n",
    "            \"items\": {\n",
    "              \"product_name\": {\n",
    "                \"type\": \"string\",\n",
    "                \"description\": \"グループごとに統一した商品名\",\n",
    "              },\n",
    "              \"products\": {\n",
    "                \"type\": \"string\",\n",
    "                \"description\": \"グループに属する商品名をカンマ区切りで並べた文字列\",\n",
    "              },\n",
    "            },\n",
    "          }\n",
    "        },\n",
    "        \"required\": [\"product_name\", \"products\"],\n",
    "      },\n",
    "    },\n",
    "  })\n",
    "]"
   ]
  },
  {
   "cell_type": "code",
   "execution_count": 9,
   "id": "01fc4b70",
   "metadata": {},
   "outputs": [
    {
     "name": "stdout",
     "output_type": "stream",
     "text": [
      "処理を開始します。\n",
      "Excelファイルに処理結果を保存しました。\n"
     ]
    }
   ],
   "source": [
    "print(\"処理を開始します。\")\n",
    "\n",
    "# 1. Excelファイルを読み込む\n",
    "df = pd.read_excel('サンプルデータ.xlsx', sheet_name='商品名')\n",
    "\n",
    "# 2. データをLLM用にテキスト形式に変換\n",
    "product_data_text = df.astype(str)\n",
    "prompt_text = f\"\"\"\n",
    "次の商品名のリストから、似た名前の商品をグループ化し、グループごとに統一した商品名「product_name」を提案し、グループに属する商品名をカンマ区切りで並べた文字列「products」を作成し、「product_nameとproductsのリスト」で構成されるJSONデータ「product_data」を出力してください。\n",
    "{product_data_text}\n",
    "\"\"\"\n",
    "\n",
    "# 3. OpenAI APIの呼び出し\n",
    "response = client.chat.completions.create(\n",
    "    model=MODEL_NAME,\n",
    "    messages=[\n",
    "        {\"role\": \"user\", \"content\": prompt_text},\n",
    "    ],\n",
    "    tools=tools,\n",
    "    tool_choice={\n",
    "        \"type\":\"function\",\n",
    "        \"function\":{\"name\":\"get_products\"}\n",
    "    },\n",
    "    response_format={\"type\":\"json_object\"}\n",
    ")\n",
    "\n",
    "# 4. 分析結果をJSONオブジェクトに変換\n",
    "# ツール呼出情報を取得\n",
    "tool = response.choices[0].message.tool_calls[0]\n",
    "# JSONオブジェクトに変換\n",
    "data = json.loads(tool.function.arguments)\n",
    "\n",
    "# データフレームに変換\n",
    "df_out = pd.DataFrame(data['product_data'])\n",
    "\n",
    "# 5. 結果をExcelファイルに保存\n",
    "df_out.to_excel(\"商品名グループ化結果.xlsx\", index=False)\n",
    "\n",
    "print(\"Excelファイルに処理結果を保存しました。\")"
   ]
  }
 ],
 "metadata": {
  "kernelspec": {
   "display_name": ".venv",
   "language": "python",
   "name": "python3"
  },
  "language_info": {
   "codemirror_mode": {
    "name": "ipython",
    "version": 3
   },
   "file_extension": ".py",
   "mimetype": "text/x-python",
   "name": "python",
   "nbconvert_exporter": "python",
   "pygments_lexer": "ipython3",
   "version": "3.12.10"
  }
 },
 "nbformat": 4,
 "nbformat_minor": 5
}
