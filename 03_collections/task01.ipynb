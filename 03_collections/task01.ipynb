{
 "cells": [
  {
   "cell_type": "code",
   "execution_count": 1,
   "id": "4f641f61",
   "metadata": {},
   "outputs": [],
   "source": [
    "grades = [85, 90, 78, 92, 88]"
   ]
  },
  {
   "cell_type": "code",
   "execution_count": 2,
   "id": "4764fde9",
   "metadata": {},
   "outputs": [
    {
     "name": "stdout",
     "output_type": "stream",
     "text": [
      "平均点: 86.6\n",
      "最高点: 92\n",
      "最低点: 78\n",
      "平均以上の学生数：3\n"
     ]
    }
   ],
   "source": [
    "avg = sum(grades) / len(grades)\n",
    "max_point = max(grades)\n",
    "min_point = min(grades)\n",
    "count_above_avg = sum(1 for g in grades if g >= avg)\n",
    "\n",
    "print(f\"平均点: {avg:.1f}\")\n",
    "print(f\"最高点: {max_point}\")\n",
    "print(f\"最低点: {min_point}\")\n",
    "print(f\"平均以上の学生数：{count_above_avg}\")"
   ]
  }
 ],
 "metadata": {
  "kernelspec": {
   "display_name": ".venv",
   "language": "python",
   "name": "python3"
  },
  "language_info": {
   "codemirror_mode": {
    "name": "ipython",
    "version": 3
   },
   "file_extension": ".py",
   "mimetype": "text/x-python",
   "name": "python",
   "nbconvert_exporter": "python",
   "pygments_lexer": "ipython3",
   "version": "3.12.10"
  }
 },
 "nbformat": 4,
 "nbformat_minor": 5
}
