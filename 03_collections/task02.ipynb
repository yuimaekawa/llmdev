{
 "cells": [
  {
   "cell_type": "code",
   "execution_count": 9,
   "id": "f4d385e6",
   "metadata": {},
   "outputs": [
    {
     "name": "stdout",
     "output_type": "stream",
     "text": [
      "入力した英単語：['dog', 'cat', 'giraffe', 'kangaroo', 'horse', 'bear']\n",
      "aが5個ありました\n",
      "bが1個ありました\n",
      "cが1個ありました\n",
      "dが1個ありました\n",
      "eが3個ありました\n",
      "fが2個ありました\n",
      "gが3個ありました\n",
      "hが1個ありました\n",
      "iが1個ありました\n",
      "kが1個ありました\n",
      "nが1個ありました\n",
      "oが4個ありました\n",
      "rが4個ありました\n",
      "sが1個ありました\n",
      "tが1個ありました\n"
     ]
    }
   ],
   "source": [
    "words = []\n",
    "alp_dict = dict.fromkeys(\"abcdefghijklmnopqrstuvwxyz\",0)\n",
    "\n",
    "while True:\n",
    "    word = input(\"英単語を入力してください：\")\n",
    "    if word == \"\":\n",
    "        break\n",
    "    words.append(word)\n",
    "    for c in word:\n",
    "        alp_dict[c]+=1\n",
    "\n",
    "print(f\"入力した英単語：{words}\")\n",
    "for char in \"abcdefghijklmnopqrstuvwxyz\":\n",
    "    if alp_dict[char] > 0:\n",
    "        print(f\"{char}が{alp_dict[char]}個ありました\")\n",
    "    \n"
   ]
  }
 ],
 "metadata": {
  "kernelspec": {
   "display_name": ".venv",
   "language": "python",
   "name": "python3"
  },
  "language_info": {
   "codemirror_mode": {
    "name": "ipython",
    "version": 3
   },
   "file_extension": ".py",
   "mimetype": "text/x-python",
   "name": "python",
   "nbconvert_exporter": "python",
   "pygments_lexer": "ipython3",
   "version": "3.12.10"
  }
 },
 "nbformat": 4,
 "nbformat_minor": 5
}
