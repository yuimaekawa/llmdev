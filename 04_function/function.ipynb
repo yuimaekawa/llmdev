{
 "cells": [
  {
   "cell_type": "code",
   "execution_count": 1,
   "id": "e3441832",
   "metadata": {},
   "outputs": [],
   "source": [
    "def is_palindrome(s):\n",
    "    if s == s[::-1]:\n",
    "        print(f\"「{s}」は回文です！\")\n",
    "    else:\n",
    "        print(f\"「{s}」は回文ではないです。\")"
   ]
  },
  {
   "cell_type": "code",
   "execution_count": 2,
   "id": "0439e3bc",
   "metadata": {},
   "outputs": [
    {
     "name": "stdout",
     "output_type": "stream",
     "text": [
      "「にんてんどううどんてんに」は回文です！\n"
     ]
    }
   ],
   "source": [
    "is_palindrome(\"にんてんどううどんてんに\")"
   ]
  },
  {
   "cell_type": "code",
   "execution_count": 3,
   "id": "04760d90",
   "metadata": {},
   "outputs": [
    {
     "name": "stdout",
     "output_type": "stream",
     "text": [
      "「にんてんどううどんてんに」は回文です！\n",
      "「Pythonは便利だが遅い」は回文ではないです。\n",
      "「no devil lived on」は回文です！\n"
     ]
    }
   ],
   "source": [
    "def is_palindrome(s):\n",
    "    if s == s[::-1]:\n",
    "        print(f\"「{s}」は回文です！\")\n",
    "    else:\n",
    "        print(f\"「{s}」は回文ではないです。\")\n",
    "\n",
    "is_palindrome(\"にんてんどううどんてんに\")\n",
    "\n",
    "is_palindrome(\"Pythonは便利だが遅い\")\n",
    "\n",
    "is_palindrome(\"no devil lived on\")"
   ]
  },
  {
   "cell_type": "code",
   "execution_count": 4,
   "id": "08cb3a30",
   "metadata": {},
   "outputs": [],
   "source": [
    "def greet(name):\n",
    "    print(f\"こんにちは、{name}さん！\")"
   ]
  },
  {
   "cell_type": "code",
   "execution_count": 5,
   "id": "30f1b10a",
   "metadata": {},
   "outputs": [
    {
     "name": "stdout",
     "output_type": "stream",
     "text": [
      "こんにちは、太郎さん！\n",
      "こんにちは、花子さん！\n"
     ]
    }
   ],
   "source": [
    "greet(\"太郎\")\n",
    "greet(\"花子\")"
   ]
  },
  {
   "cell_type": "code",
   "execution_count": 6,
   "id": "190e6803",
   "metadata": {},
   "outputs": [],
   "source": [
    "def introduce(name, age):\n",
    "    print(f\"こんにちは、{name}さん！ 年齢は{age}歳ですね。\")"
   ]
  },
  {
   "cell_type": "code",
   "execution_count": 7,
   "id": "b38acf5f",
   "metadata": {},
   "outputs": [
    {
     "name": "stdout",
     "output_type": "stream",
     "text": [
      "こんにちは、太郎さん！ 年齢は20歳ですね。\n",
      "こんにちは、花子さん！ 年齢は25歳ですね。\n"
     ]
    }
   ],
   "source": [
    "introduce(\"太郎\", 20)\n",
    "introduce(\"花子\", 25)"
   ]
  },
  {
   "cell_type": "code",
   "execution_count": 8,
   "id": "9f9bd9d4",
   "metadata": {},
   "outputs": [],
   "source": [
    "def introduce(name, age=18):\n",
    "    print(f\"こんにちは、{name}さん！ 年齢は{age}歳ですね。\")"
   ]
  },
  {
   "cell_type": "code",
   "execution_count": 9,
   "id": "fefc56b6",
   "metadata": {},
   "outputs": [
    {
     "name": "stdout",
     "output_type": "stream",
     "text": [
      "こんにちは、太郎さん！ 年齢は18歳ですね。\n",
      "こんにちは、花子さん！ 年齢は25歳ですね。\n"
     ]
    }
   ],
   "source": [
    "introduce(\"太郎\")\n",
    "introduce(\"花子\", 25)"
   ]
  },
  {
   "cell_type": "code",
   "execution_count": 10,
   "id": "49d0818e",
   "metadata": {},
   "outputs": [
    {
     "name": "stdout",
     "output_type": "stream",
     "text": [
      "合計:6\n",
      "合計:50\n"
     ]
    }
   ],
   "source": [
    "def add(*args):\n",
    "    result = sum(args)\n",
    "    print(f\"合計:{result}\")\n",
    "\n",
    "add(1, 2, 3)\n",
    "add(5, 10, 15, 20)"
   ]
  },
  {
   "cell_type": "code",
   "execution_count": 11,
   "id": "b36a49f4",
   "metadata": {},
   "outputs": [
    {
     "name": "stdout",
     "output_type": "stream",
     "text": [
      "name : 太郎\n",
      "age : 20\n",
      "hobby : 読書\n"
     ]
    }
   ],
   "source": [
    "def introduce(**kwargs):\n",
    "    for key, value in kwargs.items():\n",
    "        print(f\"{key} : {value}\")\n",
    "\n",
    "introduce(name=\"太郎\", age=20, hobby=\"読書\")\n"
   ]
  },
  {
   "cell_type": "code",
   "execution_count": 12,
   "id": "a9358a34",
   "metadata": {},
   "outputs": [],
   "source": [
    "def add(a, b):\n",
    "    result = a + b\n",
    "    return result\n"
   ]
  },
  {
   "cell_type": "code",
   "execution_count": 13,
   "id": "8fb9b1ec",
   "metadata": {},
   "outputs": [
    {
     "name": "stdout",
     "output_type": "stream",
     "text": [
      "8\n"
     ]
    }
   ],
   "source": [
    "total = add(3, 5)\n",
    "print(total)"
   ]
  },
  {
   "cell_type": "code",
   "execution_count": 14,
   "id": "c1f982db",
   "metadata": {},
   "outputs": [
    {
     "name": "stdout",
     "output_type": "stream",
     "text": [
      "足し算結果: 7\n",
      "掛け算結果: 12\n"
     ]
    }
   ],
   "source": [
    "def calculate(a, b):\n",
    "    sum_result = a + b\n",
    "    product_result = a * b\n",
    "    return sum_result, product_result\n",
    "\n",
    "result1, result2 = calculate(3, 4)\n",
    "print(\"足し算結果:\", result1)\n",
    "print(\"掛け算結果:\", result2)"
   ]
  },
  {
   "cell_type": "code",
   "execution_count": 15,
   "id": "b1aa9cfc",
   "metadata": {},
   "outputs": [
    {
     "name": "stdout",
     "output_type": "stream",
     "text": [
      "Hello!\n",
      "None\n"
     ]
    }
   ],
   "source": [
    "def greet():\n",
    "    print(\"Hello!\")\n",
    "\n",
    "result = greet()\n",
    "print(result)"
   ]
  },
  {
   "cell_type": "code",
   "execution_count": 16,
   "id": "3c9d01b2",
   "metadata": {},
   "outputs": [
    {
     "name": "stdout",
     "output_type": "stream",
     "text": [
      "25\n"
     ]
    }
   ],
   "source": [
    "# 掛け算を行う関数\n",
    "def multiply(a, b):\n",
    "    return a * b\n",
    "\n",
    "# 2乗を行う関数\n",
    "def square(number):\n",
    "    return multiply(number, number)\n",
    "\n",
    "print(square(5))"
   ]
  }
 ],
 "metadata": {
  "kernelspec": {
   "display_name": ".venv",
   "language": "python",
   "name": "python3"
  },
  "language_info": {
   "codemirror_mode": {
    "name": "ipython",
    "version": 3
   },
   "file_extension": ".py",
   "mimetype": "text/x-python",
   "name": "python",
   "nbconvert_exporter": "python",
   "pygments_lexer": "ipython3",
   "version": "3.12.10"
  }
 },
 "nbformat": 4,
 "nbformat_minor": 5
}
