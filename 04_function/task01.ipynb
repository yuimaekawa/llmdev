{
 "cells": [
  {
   "cell_type": "code",
   "execution_count": 10,
   "id": "b9ef596e",
   "metadata": {},
   "outputs": [],
   "source": [
    "def username_validation(username):\n",
    "    if len(username) <= 4 or len(username)>15:\n",
    "        print(\"エラー: ユーザー名は5文字以上15文字以内で入力してください\")\n",
    "        return False\n",
    "    elif \" \" in username:\n",
    "        print(\"エラー: ユーザー名に空白を含めることはできません\")\n",
    "        return False\n",
    "    elif not username.isalnum():\n",
    "        print(\"エラー: ユーザー名は英数字のみ使用できます\")\n",
    "        return False\n",
    "    else:\n",
    "        print(\"ユーザー名は有効です\")\n",
    "        return True\n"
   ]
  },
  {
   "cell_type": "code",
   "execution_count": 11,
   "id": "a3e91c6b",
   "metadata": {},
   "outputs": [
    {
     "name": "stdout",
     "output_type": "stream",
     "text": [
      "エラー: ユーザー名に空白を含めることはできません\n",
      "不正なユーザー名です\n"
     ]
    }
   ],
   "source": [
    "name = input(\"ユーザー名を入力してください\")\n",
    "\n",
    "if not username_validation(name):\n",
    "    print(\"不正なユーザー名です\")"
   ]
  }
 ],
 "metadata": {
  "kernelspec": {
   "display_name": ".venv",
   "language": "python",
   "name": "python3"
  },
  "language_info": {
   "codemirror_mode": {
    "name": "ipython",
    "version": 3
   },
   "file_extension": ".py",
   "mimetype": "text/x-python",
   "name": "python",
   "nbconvert_exporter": "python",
   "pygments_lexer": "ipython3",
   "version": "3.12.10"
  }
 },
 "nbformat": 4,
 "nbformat_minor": 5
}
