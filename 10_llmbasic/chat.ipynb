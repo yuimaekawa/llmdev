{
 "cells": [
  {
   "cell_type": "code",
   "execution_count": 5,
   "id": "a95444c3",
   "metadata": {},
   "outputs": [],
   "source": [
    "# 必要なモジュールをインポート\n",
    "import os\n",
    "from dotenv import load_dotenv\n",
    "from openai import OpenAI\n",
    "from pprint import pprint\n",
    "\n",
    "# 環境変数の取得\n",
    "load_dotenv(\"../.env\")\n",
    "\n",
    "# OpenAI APIクライアントを生成\n",
    "client = OpenAI(api_key=os.environ['API_KEY'])\n",
    "\n",
    "# モデル名\n",
    "MODEL_NAME = \"gpt-4o-mini\""
   ]
  },
  {
   "cell_type": "code",
   "execution_count": 3,
   "id": "b648407f",
   "metadata": {},
   "outputs": [
    {
     "name": "stdout",
     "output_type": "stream",
     "text": [
      "{'_request_id': 'req_c6a4749a00c84ad1ab6948d90601f1c5',\n",
      " 'choices': [Choice(finish_reason='stop', index=0, logprobs=None, message=ChatCompletionMessage(content='言語モデルを効果的に使うためのポイントは以下の通りです：\\n\\n1. **具体的な指示を与える**: モデルに求める情報やスタイルについて具体的な指示をすることで、より望ましい応答を得ることができます。\\n\\n2. **コンテキストを提供する**: 必要な背景情報や文脈を与えることで、モデルがより関連性の高い応答を生成しやすくなります。\\n\\n3. **プロンプトの工夫**: プロンプト（入力文）を変えることで、異なる応答を引き出せることがあります。質問の仕方やトーンを変えてみると良いでしょう。\\n\\n4. **誤情報に注意**: モデルが生成した情報が常に正確であるとは限りません。特に重要な決定には、別の信頼できる情報源で確認することが大切です。\\n\\n5. **フィードバックを活用**: モデルの応答が期待に沿わない場合、どのように修正すればよいかを考え、次回のプロンプト作成に活かすと良いでしょう。\\n\\n6. **倫理的配慮**: モデルを使用する際には、偏見や差別、プライバシー侵害などに注意し、倫理的に正しい利用を心がけることが重要です。\\n\\n7. **利用目的を明確にする**: 情報収集、クリエイティブライティング、教育など、利用目的に応じた使い方を心がけることで、より効果的に活用できます。\\n\\nこれらのポイントを意識することで、言語モデルをより効果的に活用できるようになると思います。', refusal=None, role='assistant', audio=None, function_call=None, tool_calls=None, annotations=[]))],\n",
      " 'created': 1755603620,\n",
      " 'id': 'chatcmpl-C6EzM8Jqr6kS30x8tcQBiRIkLfK4e',\n",
      " 'model': 'gpt-4o-mini-2024-07-18',\n",
      " 'object': 'chat.completion',\n",
      " 'service_tier': 'default',\n",
      " 'system_fingerprint': 'fp_560af6e559',\n",
      " 'usage': CompletionUsage(completion_tokens=408, prompt_tokens=18, total_tokens=426, completion_tokens_details=CompletionTokensDetails(accepted_prediction_tokens=0, audio_tokens=0, reasoning_tokens=0, rejected_prediction_tokens=0), prompt_tokens_details=PromptTokensDetails(audio_tokens=0, cached_tokens=0))}\n"
     ]
    }
   ],
   "source": [
    "# メッセージの設定\n",
    "message = \"言語モデルを使う上でのポイントは\"\n",
    "\n",
    "# APIへリクエスト\n",
    "response = client.chat.completions.create(\n",
    "    model=MODEL_NAME,\n",
    "    messages=[\n",
    "        {\"role\": \"user\", \"content\": message},\n",
    "    ]\n",
    ")\n",
    "\n",
    "# レスポンスの表示\n",
    "pprint(vars(response))"
   ]
  },
  {
   "cell_type": "code",
   "execution_count": 4,
   "id": "faf811a1",
   "metadata": {},
   "outputs": [
    {
     "name": "stdout",
     "output_type": "stream",
     "text": [
      "言語モデルを効果的に使うためのポイントは以下の通りです：\n",
      "\n",
      "1. **具体的な指示を与える**: モデルに求める情報やスタイルについて具体的な指示をすることで、より望ましい応答を得ることができます。\n",
      "\n",
      "2. **コンテキストを提供する**: 必要な背景情報や文脈を与えることで、モデルがより関連性の高い応答を生成しやすくなります。\n",
      "\n",
      "3. **プロンプトの工夫**: プロンプト（入力文）を変えることで、異なる応答を引き出せることがあります。質問の仕方やトーンを変えてみると良いでしょう。\n",
      "\n",
      "4. **誤情報に注意**: モデルが生成した情報が常に正確であるとは限りません。特に重要な決定には、別の信頼できる情報源で確認することが大切です。\n",
      "\n",
      "5. **フィードバックを活用**: モデルの応答が期待に沿わない場合、どのように修正すればよいかを考え、次回のプロンプト作成に活かすと良いでしょう。\n",
      "\n",
      "6. **倫理的配慮**: モデルを使用する際には、偏見や差別、プライバシー侵害などに注意し、倫理的に正しい利用を心がけることが重要です。\n",
      "\n",
      "7. **利用目的を明確にする**: 情報収集、クリエイティブライティング、教育など、利用目的に応じた使い方を心がけることで、より効果的に活用できます。\n",
      "\n",
      "これらのポイントを意識することで、言語モデルをより効果的に活用できるようになると思います。\n"
     ]
    }
   ],
   "source": [
    "# 言語モデルからの回答を表示\n",
    "print(response.choices[0].message.content.strip())"
   ]
  },
  {
   "cell_type": "code",
   "execution_count": 3,
   "id": "529a336b",
   "metadata": {},
   "outputs": [
    {
     "name": "stdout",
     "output_type": "stream",
     "text": [
      "新製品の発売に向けた効果的なマーケティング戦略を以下に示します。これらの戦略は、製品の特性やターゲット市場に応じてカスタマイズすることができます。\n",
      "\n",
      "### 1. 市場調査とターゲティング\n",
      "- **市場調査**：競合他社や市場トレンドを分析し、消費者のニーズや嗜好を把握します。\n",
      "- **ペルソナ作成**：ターゲットオーディエンスの詳細なプロファイルを作成し、誰にアプローチするかを明確にします。\n",
      "\n",
      "### 2. 製品ポジショニング\n",
      "- **USP（ユニーク・セリング・プロポジション）**：製品の独自性や他社製品との違いを明確にし、その価値をユーザーに伝えます。\n",
      "- **メッセージング**：ターゲットオーディエンスに響くメッセージを作成し、ブランドのストーリーを伝えます。\n",
      "\n",
      "### 3. マルチチャネルプロモーション\n",
      "- **ソーシャルメディア**：Instagram、Twitter、Facebookなどを活用して、製品のティーザーや速報を発信します。\n",
      "- **メールマーケティング**：既存顧客や興味を持っているリストに対して、新製品発表を予告し、期待感を醸成します。\n",
      "- **コンテンツマーケティング**：ブログ記事、ビデオ、インフォグラフィックスなどのコンテンツを通じて製品を紹介し、SEO対策も行います。\n",
      "\n",
      "### 4. プレスリリースとメディア関係\n",
      "- **プレスリリース**：新製品の詳細を含むプレスリリースを作成し、業界メディアやブログに配信します。\n",
      "- **インフルエンサーマーケティング**：ターゲットオーディエンスに影響力のあるインフルエンサーに製品を紹介してもらいます。\n",
      "\n",
      "### 5. ランチイベントやキャンペーン\n",
      "- **発売イベント**：製品発表会を開催し、メディア、インフルエンサー、顧客を招待して体験してもらいます。\n",
      "- **キャンペーン**：製品を購入することで得られる特典（割引や特別ギフト）を提供し、初期の購買を促進します。\n",
      "\n",
      "### 6. フィードバック収集と改善\n",
      "- **顧客の声**：発売後、顧客のフィードバックを収集し、必要に応じて製品やマーケティング戦略を調整します。\n",
      "- **レビューとテスティモニアル**：顧客のレビューや体験談をマーケティングに活用し、新たな顧客を惹きつけます。\n",
      "\n",
      "### 7. パフォーマンス分析\n",
      "- **KPI設定**：成功を測定するための主要業績評価指標（KPI）を設定し、キャンペーンの効果を分析します。\n",
      "- **データ分析**：マーケティング活動の結果を分析し、次回の戦略に活かします。\n",
      "\n",
      "これらの戦略を組み合わせ、継続的に改善を重ねることで、新製品の成功を最大限に引き出すことができます。\n"
     ]
    }
   ],
   "source": [
    "# 役割や前提の設定\n",
    "role = \"あなたはマーケティング分野に精通したビジネスコンサルタントです。企業の成長をサポートするために、効果的なマーケティング戦略を提供します。\"\n",
    "\n",
    "# メッセージの設定\n",
    "message = \"新製品の発売に向けた効果的なマーケティング戦略を教えてください。\"\n",
    "\n",
    "# APIへリクエスト\n",
    "response = client.chat.completions.create(\n",
    "    model=MODEL_NAME,\n",
    "    messages=[\n",
    "        {\"role\": \"system\", \"content\": role},\n",
    "        {\"role\": \"user\", \"content\": message},\n",
    "    ],\n",
    ")\n",
    "\n",
    "# 言語モデルからの回答を表示\n",
    "print(response.choices[0].message.content.strip())"
   ]
  },
  {
   "cell_type": "code",
   "execution_count": 6,
   "id": "0760f859",
   "metadata": {},
   "outputs": [
    {
     "name": "stdout",
     "output_type": "stream",
     "text": [
      "tokens_count=2\n",
      "tokens=[95839, 3393]\n"
     ]
    }
   ],
   "source": [
    "import tiktoken\n",
    "from tiktoken.core import Encoding\n",
    "\n",
    "# OpenAI APIの特定のモデルに対応するトークナイザーを取得\n",
    "encoding: Encoding = tiktoken.encoding_for_model(MODEL_NAME) # o200k_base\n",
    "\n",
    "# テキストをトークンIDのリストに変換\n",
    "tokens = encoding.encode(\"こんにちは！\")\n",
    "tokens_count = len(tokens)\n",
    "\n",
    "# トークンの長さとトークンIDを表示\n",
    "print(f\"{tokens_count=}\")\n",
    "print(f\"{tokens=}\")"
   ]
  },
  {
   "cell_type": "code",
   "execution_count": 7,
   "id": "4db7e20d",
   "metadata": {},
   "outputs": [
    {
     "name": "stdout",
     "output_type": "stream",
     "text": [
      "--------------------\n",
      "B:こんにちは！Aさん、元気ですか？\n",
      "--------------------\n",
      "B:こんにちは！お元気ですか？\n",
      "--------------------\n",
      "B:こんにちは！Aさん、元気ですか？\n"
     ]
    }
   ],
   "source": [
    "# トークンの選択度合い\n",
    "message = \"\"\"\n",
    "AさんとBさんで会話してください。\n",
    "A:あ、Bさんだ。\n",
    "B:\n",
    "\"\"\"\n",
    "\n",
    "# APIへリクエスト\n",
    "response = client.chat.completions.create(\n",
    "    model=MODEL_NAME,\n",
    "    messages=[\n",
    "        {\"role\": \"user\", \"content\": message},\n",
    "    ],\n",
    "    max_tokens=100,\n",
    "    n=3,\n",
    "    logit_bias = {95839:8, 3393:8}\n",
    ")\n",
    "\n",
    "# 結果を表示\n",
    "for choice in response.choices:\n",
    "    print(\"-\" * 20)\n",
    "    print(choice.message.content.strip())\n"
   ]
  },
  {
   "cell_type": "code",
   "execution_count": 8,
   "id": "3af9deda",
   "metadata": {},
   "outputs": [
    {
     "name": "stdout",
     "output_type": "stream",
     "text": [
      "言語モデルを効果的に活用するためのポイントはいくつかあります。以下に主な点を挙げます。\n",
      "\n",
      "1. **目的を明確にする**: 言語モデルを使用する目的をはっきりさせることが重要です。情報検索、文章生成、翻訳、要約など、目的に応じた使い方が求められます。\n",
      "\n",
      "2. **プロンプトの工夫**: モデルに与える入力（プロンプト）の質が結果に大きく影響します。明確かつ具体的な指示を与えることで、より意図に沿った出力が得られます。\n",
      "\n",
      "3. **コンテキストの提供**: モデルに必要な背景情報や文脈を提供することで、より関連性の高い応答が得られます。特に複雑なタスクの場合、詳細な説明が有効です。\n",
      "\n",
      "4. **応答の評価**: 出力が期待通りかどうか、慎重に評価することが必要です。過信せず、必ず人間の判断を介入させることが推奨されます。\n",
      "\n",
      "5. **継続的なフィードバック**: モデルの出力に対してフィードバックを与え、必要に応じてプロンプトを修正することで、モデルの性能を向上させることができます。\n",
      "\n",
      "6. **限界を理解する**: 言語モデルには限界があり、必ずしも正確な情報を提供するわけではありません。特に専門的な知識が必要な領域では、人間の専門家の意見を重視することが大切です。\n",
      "\n",
      "7. **倫理的な配慮**: 言語モデルを使用する際は、倫理的な側面にも目を向ける必要があります。誤情報の拡散やバイアスに注意し、公正かつ責任を持った利用を心がけましょう。\n",
      "\n",
      "これらのポイントを踏まえて、言語モデルを効果的に活用することができます。"
     ]
    }
   ],
   "source": [
    "# メッセージの設定\n",
    "message = \"言語モデルを使う上でのポイントは\"\n",
    "\n",
    "# APIへリクエスト\n",
    "stream = client.chat.completions.create(\n",
    "    model=MODEL_NAME,\n",
    "    messages=[\n",
    "        {\"role\": \"user\", \"content\": message},\n",
    "    ],\n",
    "    stream=True,\n",
    ")\n",
    "\n",
    "for chunk in stream:\n",
    "    if chunk.choices:\n",
    "        if chunk.choices[0].delta.content is not None:\n",
    "            print(chunk.choices[0].delta.content, end=\"\")"
   ]
  }
 ],
 "metadata": {
  "kernelspec": {
   "display_name": ".venv",
   "language": "python",
   "name": "python3"
  },
  "language_info": {
   "codemirror_mode": {
    "name": "ipython",
    "version": 3
   },
   "file_extension": ".py",
   "mimetype": "text/x-python",
   "name": "python",
   "nbconvert_exporter": "python",
   "pygments_lexer": "ipython3",
   "version": "3.12.10"
  }
 },
 "nbformat": 4,
 "nbformat_minor": 5
}
