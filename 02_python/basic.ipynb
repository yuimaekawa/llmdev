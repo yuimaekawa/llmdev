{
 "cells": [
  {
   "cell_type": "code",
   "execution_count": 1,
   "id": "13a8e073",
   "metadata": {},
   "outputs": [
    {
     "name": "stdout",
     "output_type": "stream",
     "text": [
      "3科目の平均点は 83.33333333333333 点です\n"
     ]
    }
   ],
   "source": [
    "# 各科目の点数を変数として定義\n",
    "japanese = 85  # 国語\n",
    "math = 90      # 数学\n",
    "english = 75   # 英語\n",
    "\n",
    "# 平均点を計算\n",
    "average = (japanese + math + english) / 3\n",
    "\n",
    "# 結果を表示\n",
    "print(\"3科目の平均点は\", average, \"点です\")"
   ]
  },
  {
   "cell_type": "code",
   "execution_count": 2,
   "id": "a4629e00",
   "metadata": {},
   "outputs": [
    {
     "name": "stdout",
     "output_type": "stream",
     "text": [
      "a < b: True\n",
      "a == b: False\n"
     ]
    }
   ],
   "source": [
    "# 比較演算\n",
    "a = 5\n",
    "b = 10\n",
    "\n",
    "# aがbより小さいかどうかを比較\n",
    "result = a < b  # これはTrue\n",
    "\n",
    "# aとbが等しいかどうかを比較\n",
    "equal_result = a == b  # これはFalse\n",
    "\n",
    "print(\"a < b:\", result)\n",
    "print(\"a == b:\", equal_result)"
   ]
  },
  {
   "cell_type": "code",
   "execution_count": 3,
   "id": "4fea824f",
   "metadata": {},
   "outputs": [
    {
     "name": "stdout",
     "output_type": "stream",
     "text": [
      "False\n",
      "True\n",
      "False\n",
      "True\n"
     ]
    }
   ],
   "source": [
    "# ブール値に変換される値の例\n",
    "print(bool(0))  # False\n",
    "print(bool(1))  # True\n",
    "print(bool(\"\"))  # False（空の文字列はFalse）\n",
    "print(bool(\"Hello\"))  # True（非空の文字列はTrue）"
   ]
  },
  {
   "cell_type": "code",
   "execution_count": 4,
   "id": "b42bbb80",
   "metadata": {},
   "outputs": [
    {
     "name": "stdout",
     "output_type": "stream",
     "text": [
      "2\n",
      "10\n",
      "5\n"
     ]
    }
   ],
   "source": [
    "# True は 1 として扱われ、False は 0 として扱われる\n",
    "print(True + True)  # 1 + 1 = 2\n",
    "print(True * 10)  # 1 * 10 = 10\n",
    "print(False + 5)  # 0 + 5 = 5"
   ]
  },
  {
   "cell_type": "code",
   "execution_count": 5,
   "id": "43b9f970",
   "metadata": {},
   "outputs": [
    {
     "name": "stdout",
     "output_type": "stream",
     "text": [
      "まだ値が設定されていません\n"
     ]
    }
   ],
   "source": [
    "value = None  # 変数を初期化\n",
    "if value is None:\n",
    "    print(\"まだ値が設定されていません\")"
   ]
  }
 ],
 "metadata": {
  "kernelspec": {
   "display_name": ".venv",
   "language": "python",
   "name": "python3"
  },
  "language_info": {
   "codemirror_mode": {
    "name": "ipython",
    "version": 3
   },
   "file_extension": ".py",
   "mimetype": "text/x-python",
   "name": "python",
   "nbconvert_exporter": "python",
   "pygments_lexer": "ipython3",
   "version": "3.12.10"
  }
 },
 "nbformat": 4,
 "nbformat_minor": 5
}
