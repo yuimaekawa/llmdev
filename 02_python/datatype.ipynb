{
 "cells": [
  {
   "cell_type": "code",
   "execution_count": 1,
   "id": "8102ce5c",
   "metadata": {},
   "outputs": [
    {
     "name": "stdout",
     "output_type": "stream",
     "text": [
      "a: 10\n",
      "b: -5\n",
      "c: 0\n",
      "合計: 5\n",
      "積: -50\n"
     ]
    }
   ],
   "source": [
    "# 整数の代入\n",
    "a = 10\n",
    "b = -5\n",
    "c = 0\n",
    "\n",
    "# 整数同士の計算\n",
    "sum_result = a + b  # 10 + (-5) = 5\n",
    "product_result = a * b  # 10 * (-5) = -50\n",
    "\n",
    "print(\"a:\", a)\n",
    "print(\"b:\", b)\n",
    "print(\"c:\", c)\n",
    "print(\"合計:\", sum_result)\n",
    "print(\"積:\", product_result)"
   ]
  },
  {
   "cell_type": "code",
   "execution_count": 2,
   "id": "445c6237",
   "metadata": {},
   "outputs": [
    {
     "name": "stdout",
     "output_type": "stream",
     "text": [
      "除算結果: 3.3333333333333335\n",
      "整数除算結果: 3\n"
     ]
    }
   ],
   "source": [
    "# 除算の例\n",
    "division_result = a / 3  # 結果は 3.3333333333333335（float 型）\n",
    "integer_division_result = a // 3  # 結果は 3（int 型）\n",
    "\n",
    "print(\"除算結果:\", division_result)\n",
    "print(\"整数除算結果:\", integer_division_result)"
   ]
  },
  {
   "cell_type": "code",
   "execution_count": 3,
   "id": "adde051c",
   "metadata": {},
   "outputs": [
    {
     "name": "stdout",
     "output_type": "stream",
     "text": [
      "x: 3.14\n",
      "y: -0.5\n",
      "z: 2.0\n",
      "合計: 2.64\n",
      "積: -1.57\n"
     ]
    }
   ],
   "source": [
    "# 浮動小数点数の代入\n",
    "x = 3.14\n",
    "y = -0.5\n",
    "z = 2.0  # 小数点を付けると float 型になる\n",
    "\n",
    "# 浮動小数点数の計算\n",
    "sum_result = x + y  # 3.14 + (-0.5) = 2.64\n",
    "product_result = x * y  # 3.14 * (-0.5) = -1.57\n",
    "\n",
    "print(\"x:\", x)\n",
    "print(\"y:\", y)\n",
    "print(\"z:\", z)\n",
    "print(\"合計:\", sum_result)\n",
    "print(\"積:\", product_result)"
   ]
  },
  {
   "cell_type": "code",
   "execution_count": 4,
   "id": "45bd6c2e",
   "metadata": {},
   "outputs": [
    {
     "name": "stdout",
     "output_type": "stream",
     "text": [
      "0.1 + 0.2 = 0.30000000000000004\n"
     ]
    }
   ],
   "source": [
    "# 浮動小数点数の誤差の例\n",
    "result = 0.1 + 0.2\n",
    "print(\"0.1 + 0.2 =\", result)"
   ]
  },
  {
   "cell_type": "code",
   "execution_count": 5,
   "id": "8e090919",
   "metadata": {},
   "outputs": [
    {
     "name": "stdout",
     "output_type": "stream",
     "text": [
      "a の型: <class 'int'>\n",
      "b の型: <class 'float'>\n"
     ]
    }
   ],
   "source": [
    "a = 10  # int 型\n",
    "b = float(a)  # float 型に変換\n",
    "\n",
    "print(\"a の型:\", type(a))\n",
    "print(\"b の型:\", type(b))"
   ]
  },
  {
   "cell_type": "code",
   "execution_count": 6,
   "id": "1f7ce868",
   "metadata": {},
   "outputs": [
    {
     "name": "stdout",
     "output_type": "stream",
     "text": [
      "x の型: <class 'float'>\n",
      "y の型: <class 'int'>\n",
      "y の値: 3\n"
     ]
    }
   ],
   "source": [
    "x = 3.99  # float 型\n",
    "y = int(x)  # int 型に変換（小数部分は切り捨て）\n",
    "\n",
    "print(\"x の型:\", type(x))\n",
    "print(\"y の型:\", type(y))\n",
    "print(\"y の値:\", y)"
   ]
  },
  {
   "cell_type": "code",
   "execution_count": 7,
   "id": "3046864c",
   "metadata": {},
   "outputs": [
    {
     "name": "stdout",
     "output_type": "stream",
     "text": [
      "「'」はシングルクォートです。\n",
      "「\"」はダブルクォートです。\n"
     ]
    }
   ],
   "source": [
    "text1 = \"「'」はシングルクォートです。\"\n",
    "text2 = '「\"」はダブルクォートです。'\n",
    "print(text1)\n",
    "print(text2)"
   ]
  },
  {
   "cell_type": "code",
   "execution_count": 8,
   "id": "55e14d72",
   "metadata": {},
   "outputs": [
    {
     "name": "stdout",
     "output_type": "stream",
     "text": [
      "Hello World\n",
      "Hi! Hi! Hi! \n",
      "文字列の長さ: 13\n"
     ]
    }
   ],
   "source": [
    "# 文字列の結合\n",
    "text1 = \"Hello\"\n",
    "text2 = \"World\"\n",
    "result = text1 + \" \" + text2\n",
    "print(result)  # 'Hello World'\n",
    "\n",
    "# 文字列の繰り返し\n",
    "text = \"Hi! \"\n",
    "print(text * 3)  # 'Hi! Hi! Hi! '\n",
    "\n",
    "# 文字列の長さを取得\n",
    "length = len(\"Hello, World!\")  # 13\n",
    "print(\"文字列の長さ:\", length)"
   ]
  },
  {
   "cell_type": "code",
   "execution_count": 9,
   "id": "be20efbe",
   "metadata": {},
   "outputs": [
    {
     "name": "stdout",
     "output_type": "stream",
     "text": [
      "PYTHON\n",
      "python\n",
      "Hello, Python\n",
      "Hello, World!\n",
      "7\n"
     ]
    }
   ],
   "source": [
    "# 大文字や小文字に変換\n",
    "text = \"Python\"\n",
    "print(text.upper())  # 'PYTHON'\n",
    "print(text.lower())  # 'python'\n",
    "\n",
    "# 部分文字列を置換\n",
    "text = \"Hello, World\"\n",
    "print(text.replace(\"World\", \"Python\"))  # 'Hello, Python'\n",
    "\n",
    "# 前後の空白や指定した文字を削除\n",
    "text = \"  Hello, World!  \"\n",
    "print(text.strip())  # 'Hello, World!'\n",
    "\n",
    "# 部分文字列の最初の位置を検索\n",
    "text = \"Hello, World\"\n",
    "print(text.find(\"World\"))  # 7"
   ]
  },
  {
   "cell_type": "code",
   "execution_count": 10,
   "id": "7361133f",
   "metadata": {},
   "outputs": [
    {
     "name": "stdout",
     "output_type": "stream",
     "text": [
      "エスケープを使うと、「'」シングルクォートと「\"」ダブルクォートを混在させたり、\n",
      "改行や\tタブを入れたりと多彩な表現が可能です\n"
     ]
    }
   ],
   "source": [
    "print(\"エスケープを使うと、「\\'」シングルクォートと「\\\"」ダブルクォートを混在させたり、\\n改行や\\tタブを入れたりと多彩な表現が可能です\")"
   ]
  },
  {
   "cell_type": "code",
   "execution_count": 11,
   "id": "5d9ab2ad",
   "metadata": {},
   "outputs": [
    {
     "name": "stdout",
     "output_type": "stream",
     "text": [
      "A様\n",
      "いつもお世話になっております。Bです。\n",
      "先日はお越しくださりありがとうございました。\n",
      "またのご来店をお待ちしております。\n"
     ]
    }
   ],
   "source": [
    "message = '''A様\n",
    "いつもお世話になっております。Bです。\n",
    "先日はお越しくださりありがとうございました。\n",
    "またのご来店をお待ちしております。'''\n",
    "\n",
    "print(message)"
   ]
  },
  {
   "cell_type": "code",
   "execution_count": 12,
   "id": "188408f5",
   "metadata": {},
   "outputs": [
    {
     "ename": "TypeError",
     "evalue": "can't multiply sequence by non-int of type 'float'",
     "output_type": "error",
     "traceback": [
      "\u001b[31m---------------------------------------------------------------------------\u001b[39m",
      "\u001b[31mTypeError\u001b[39m                                 Traceback (most recent call last)",
      "\u001b[36mCell\u001b[39m\u001b[36m \u001b[39m\u001b[32mIn[12]\u001b[39m\u001b[32m, line 2\u001b[39m\n\u001b[32m      1\u001b[39m price = \u001b[33m\"\u001b[39m\u001b[33m100\u001b[39m\u001b[33m\"\u001b[39m\n\u001b[32m----> \u001b[39m\u001b[32m2\u001b[39m \u001b[38;5;28mprint\u001b[39m(\u001b[33m\"\u001b[39m\u001b[33m税込価格は\u001b[39m\u001b[33m\"\u001b[39m, \u001b[43mprice\u001b[49m\u001b[43m \u001b[49m\u001b[43m*\u001b[49m\u001b[43m \u001b[49m\u001b[32;43m1.1\u001b[39;49m, \u001b[33m\"\u001b[39m\u001b[33m円です\u001b[39m\u001b[33m\"\u001b[39m)\n",
      "\u001b[31mTypeError\u001b[39m: can't multiply sequence by non-int of type 'float'"
     ]
    }
   ],
   "source": [
    "price = \"100\"\n",
    "print(\"税込価格は\", price * 1.1, \"円です\")"
   ]
  },
  {
   "cell_type": "code",
   "execution_count": 13,
   "id": "5439e179",
   "metadata": {},
   "outputs": [
    {
     "name": "stdout",
     "output_type": "stream",
     "text": [
      "num_str の型: <class 'str'>\n",
      "num_str の値: 100\n",
      "int_value の型: <class 'int'>\n",
      "int_value の値: 250\n"
     ]
    }
   ],
   "source": [
    "num = 100  # int 型\n",
    "num_str = str(num)  # 文字列に変換\n",
    "\n",
    "print(\"num_str の型:\", type(num_str))\n",
    "print(\"num_str の値:\", num_str)\n",
    "\n",
    "# 文字列から数値へ\n",
    "str_value = \"250\"\n",
    "int_value = int(str_value)\n",
    "\n",
    "print(\"int_value の型:\", type(int_value))\n",
    "print(\"int_value の値:\", int_value)"
   ]
  },
  {
   "cell_type": "code",
   "execution_count": 14,
   "id": "4a834dea",
   "metadata": {},
   "outputs": [
    {
     "name": "stdout",
     "output_type": "stream",
     "text": [
      "こんにちは、太郎さん!\n"
     ]
    }
   ],
   "source": [
    "name = input(\"名前を入力してください: \")\n",
    "print(\"こんにちは、\" + name + \"さん!\")"
   ]
  },
  {
   "cell_type": "code",
   "execution_count": 15,
   "id": "b08ce6a7",
   "metadata": {},
   "outputs": [
    {
     "name": "stdout",
     "output_type": "stream",
     "text": [
      "入力した数値に10を足すと 15 です\n"
     ]
    }
   ],
   "source": [
    "num = int(input(\"数値を入力してください: \"))\n",
    "result = num + 10\n",
    "print(\"入力した数値に10を足すと\", result, \"です\")"
   ]
  },
  {
   "cell_type": "code",
   "execution_count": 16,
   "id": "87489ff1",
   "metadata": {},
   "outputs": [
    {
     "name": "stdout",
     "output_type": "stream",
     "text": [
      "私の名前はジョンです。私は30歳です。\n"
     ]
    }
   ],
   "source": [
    "name = \"ジョン\"\n",
    "age = 30\n",
    "print(f\"私の名前は{name}です。私は{age}歳です。\")"
   ]
  },
  {
   "cell_type": "code",
   "execution_count": 17,
   "id": "6e931113",
   "metadata": {},
   "outputs": [
    {
     "name": "stdout",
     "output_type": "stream",
     "text": [
      "5足す10は15です。\n"
     ]
    }
   ],
   "source": [
    "a = 5\n",
    "b = 10\n",
    "print(f\"{a}足す{b}は{a + b}です。\")"
   ]
  },
  {
   "cell_type": "code",
   "execution_count": 18,
   "id": "f15c7bcd",
   "metadata": {},
   "outputs": [
    {
     "name": "stdout",
     "output_type": "stream",
     "text": [
      "小数点以下の桁数: 3.14\n",
      "カンマ区切り: 1,234,567,890\n",
      "文字列の幅「Alice     」\n",
      "ゼロ埋め: 00042\n",
      "パーセント表示: 85.6%\n",
      "左揃え　「Alice     」\n",
      "右揃え　「     Alice」\n",
      "中央揃え「  Alice   」\n",
      "現在日時: 2025-08-07 17:35:46\n"
     ]
    }
   ],
   "source": [
    "# 小数点以下の桁数\n",
    "pi = 3.14159\n",
    "print(f\"小数点以下の桁数: {pi:.2f}\") # 2桁に指定\n",
    "\n",
    "# カンマ区切り\n",
    "large_number = 1234567890\n",
    "print(f\"カンマ区切り: {large_number:,}\")\n",
    "\n",
    "# 文字列の出力幅\n",
    "name = \"Alice\"\n",
    "print(f\"文字列の幅「{name:10}」\")  # 10文字分の幅で表示\n",
    "\n",
    "# ゼロ埋め\n",
    "num = 42\n",
    "print(f\"ゼロ埋め: {num:05}\")  # 5桁で表示し、足りない部分はゼロで埋める\n",
    "\n",
    "# パーセント表示\n",
    "accuracy = 0.856\n",
    "print(f\"パーセント表示: {accuracy:.1%}\")\n",
    "\n",
    "# 揃え\n",
    "name = \"Alice\"\n",
    "print(f\"左揃え　「{name:<10}」\")  # 左揃えで10文字幅\n",
    "print(f\"右揃え　「{name:>10}」\")  # 右揃えで10文字幅\n",
    "print(f\"中央揃え「{name:^10}」\")  # 中央揃えで10文字幅\n",
    "\n",
    "# 日時のフォーマット\n",
    "from datetime import datetime\n",
    "now = datetime.now()\n",
    "print(f\"現在日時: {now:%Y-%m-%d %H:%M:%S}\")"
   ]
  }
 ],
 "metadata": {
  "kernelspec": {
   "display_name": ".venv",
   "language": "python",
   "name": "python3"
  },
  "language_info": {
   "codemirror_mode": {
    "name": "ipython",
    "version": 3
   },
   "file_extension": ".py",
   "mimetype": "text/x-python",
   "name": "python",
   "nbconvert_exporter": "python",
   "pygments_lexer": "ipython3",
   "version": "3.12.10"
  }
 },
 "nbformat": 4,
 "nbformat_minor": 5
}
