{
 "cells": [
  {
   "cell_type": "code",
   "execution_count": 1,
   "id": "8102ce5c",
   "metadata": {},
   "outputs": [
    {
     "name": "stdout",
     "output_type": "stream",
     "text": [
      "a: 10\n",
      "b: -5\n",
      "c: 0\n",
      "合計: 5\n",
      "積: -50\n"
     ]
    }
   ],
   "source": [
    "# 整数の代入\n",
    "a = 10\n",
    "b = -5\n",
    "c = 0\n",
    "\n",
    "# 整数同士の計算\n",
    "sum_result = a + b  # 10 + (-5) = 5\n",
    "product_result = a * b  # 10 * (-5) = -50\n",
    "\n",
    "print(\"a:\", a)\n",
    "print(\"b:\", b)\n",
    "print(\"c:\", c)\n",
    "print(\"合計:\", sum_result)\n",
    "print(\"積:\", product_result)"
   ]
  },
  {
   "cell_type": "code",
   "execution_count": 2,
   "id": "445c6237",
   "metadata": {},
   "outputs": [
    {
     "name": "stdout",
     "output_type": "stream",
     "text": [
      "除算結果: 3.3333333333333335\n",
      "整数除算結果: 3\n"
     ]
    }
   ],
   "source": [
    "# 除算の例\n",
    "division_result = a / 3  # 結果は 3.3333333333333335（float 型）\n",
    "integer_division_result = a // 3  # 結果は 3（int 型）\n",
    "\n",
    "print(\"除算結果:\", division_result)\n",
    "print(\"整数除算結果:\", integer_division_result)"
   ]
  },
  {
   "cell_type": "code",
   "execution_count": 3,
   "id": "adde051c",
   "metadata": {},
   "outputs": [
    {
     "name": "stdout",
     "output_type": "stream",
     "text": [
      "x: 3.14\n",
      "y: -0.5\n",
      "z: 2.0\n",
      "合計: 2.64\n",
      "積: -1.57\n"
     ]
    }
   ],
   "source": [
    "# 浮動小数点数の代入\n",
    "x = 3.14\n",
    "y = -0.5\n",
    "z = 2.0  # 小数点を付けると float 型になる\n",
    "\n",
    "# 浮動小数点数の計算\n",
    "sum_result = x + y  # 3.14 + (-0.5) = 2.64\n",
    "product_result = x * y  # 3.14 * (-0.5) = -1.57\n",
    "\n",
    "print(\"x:\", x)\n",
    "print(\"y:\", y)\n",
    "print(\"z:\", z)\n",
    "print(\"合計:\", sum_result)\n",
    "print(\"積:\", product_result)"
   ]
  },
  {
   "cell_type": "code",
   "execution_count": 4,
   "id": "45bd6c2e",
   "metadata": {},
   "outputs": [
    {
     "name": "stdout",
     "output_type": "stream",
     "text": [
      "0.1 + 0.2 = 0.30000000000000004\n"
     ]
    }
   ],
   "source": [
    "# 浮動小数点数の誤差の例\n",
    "result = 0.1 + 0.2\n",
    "print(\"0.1 + 0.2 =\", result)"
   ]
  },
  {
   "cell_type": "code",
   "execution_count": 5,
   "id": "8e090919",
   "metadata": {},
   "outputs": [
    {
     "name": "stdout",
     "output_type": "stream",
     "text": [
      "a の型: <class 'int'>\n",
      "b の型: <class 'float'>\n"
     ]
    }
   ],
   "source": [
    "a = 10  # int 型\n",
    "b = float(a)  # float 型に変換\n",
    "\n",
    "print(\"a の型:\", type(a))\n",
    "print(\"b の型:\", type(b))"
   ]
  },
  {
   "cell_type": "code",
   "execution_count": 6,
   "id": "1f7ce868",
   "metadata": {},
   "outputs": [
    {
     "name": "stdout",
     "output_type": "stream",
     "text": [
      "x の型: <class 'float'>\n",
      "y の型: <class 'int'>\n",
      "y の値: 3\n"
     ]
    }
   ],
   "source": [
    "x = 3.99  # float 型\n",
    "y = int(x)  # int 型に変換（小数部分は切り捨て）\n",
    "\n",
    "print(\"x の型:\", type(x))\n",
    "print(\"y の型:\", type(y))\n",
    "print(\"y の値:\", y)"
   ]
  },
  {
   "cell_type": "code",
   "execution_count": 7,
   "id": "3046864c",
   "metadata": {},
   "outputs": [
    {
     "name": "stdout",
     "output_type": "stream",
     "text": [
      "「'」はシングルクォートです。\n",
      "「\"」はダブルクォートです。\n"
     ]
    }
   ],
   "source": [
    "text1 = \"「'」はシングルクォートです。\"\n",
    "text2 = '「\"」はダブルクォートです。'\n",
    "print(text1)\n",
    "print(text2)"
   ]
  }
 ],
 "metadata": {
  "kernelspec": {
   "display_name": ".venv",
   "language": "python",
   "name": "python3"
  },
  "language_info": {
   "codemirror_mode": {
    "name": "ipython",
    "version": 3
   },
   "file_extension": ".py",
   "mimetype": "text/x-python",
   "name": "python",
   "nbconvert_exporter": "python",
   "pygments_lexer": "ipython3",
   "version": "3.12.10"
  }
 },
 "nbformat": 4,
 "nbformat_minor": 5
}
